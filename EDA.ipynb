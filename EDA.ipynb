{
 "cells": [
  {
   "cell_type": "code",
   "execution_count": 30,
   "metadata": {
    "collapsed": false
   },
   "outputs": [],
   "source": [
    "import pandas as pd\n",
    "import numpy as np\n",
    "import matplotlib.pyplot as plt\n",
    "from sklearn.preprocessing import LabelEncoder"
   ]
  },
  {
   "cell_type": "code",
   "execution_count": 5,
   "metadata": {
    "collapsed": false,
    "scrolled": false
   },
   "outputs": [
    {
     "name": "stderr",
     "output_type": "stream",
     "text": [
      "/Users/Leslie/anaconda3/lib/python3.5/site-packages/IPython/core/interactiveshell.py:2717: DtypeWarning: Columns (22,32,34,49,55) have mixed types. Specify dtype option on import or set low_memory=False.\n",
      "  interactivity=interactivity, compiler=compiler, result=result)\n"
     ]
    }
   ],
   "source": [
    "properties = pd.read_table('properties_2016.csv', header=0, index_col=0, sep=',')"
   ]
  },
  {
   "cell_type": "code",
   "execution_count": null,
   "metadata": {
    "collapsed": true
   },
   "outputs": [],
   "source": []
  },
  {
   "cell_type": "markdown",
   "metadata": {},
   "source": [
    "#### Shape of `properties`"
   ]
  },
  {
   "cell_type": "code",
   "execution_count": 6,
   "metadata": {
    "collapsed": false
   },
   "outputs": [
    {
     "name": "stdout",
     "output_type": "stream",
     "text": [
      "(2985217, 57)\n"
     ]
    }
   ],
   "source": [
    "print(properties.shape)"
   ]
  },
  {
   "cell_type": "markdown",
   "metadata": {},
   "source": [
    "#### Percentage of NAs in each columns"
   ]
  },
  {
   "cell_type": "code",
   "execution_count": 7,
   "metadata": {
    "collapsed": false,
    "scrolled": true
   },
   "outputs": [
    {
     "data": {
      "text/plain": [
       "rawcensustractandblock          0.003831\n",
       "longitude                       0.003831\n",
       "latitude                        0.003831\n",
       "regionidcounty                  0.003831\n",
       "fips                            0.003831\n",
       "propertylandusetypeid           0.003831\n",
       "assessmentyear                  0.003832\n",
       "bedroomcnt                      0.003836\n",
       "bathroomcnt                     0.003840\n",
       "roomcnt                         0.003844\n",
       "propertycountylandusecode       0.004113\n",
       "regionidzip                     0.004683\n",
       "taxamount                       0.010468\n",
       "taxvaluedollarcnt               0.014254\n",
       "structuretaxvaluedollarcnt      0.018418\n",
       "calculatedfinishedsquarefeet    0.018613\n",
       "yearbuilt                       0.020075\n",
       "regionidcity                    0.021052\n",
       "landtaxvaluedollarcnt           0.022689\n",
       "censustractandblock             0.025166\n",
       "fullbathcnt                     0.043183\n",
       "calculatedbathnbr               0.043183\n",
       "finishedsquarefeet12            0.092467\n",
       "lotsizesquarefeet               0.092489\n",
       "propertyzoningdesc              0.337191\n",
       "unitcnt                         0.337572\n",
       "buildingqualitytypeid           0.350637\n",
       "heatingorsystemtypeid           0.394885\n",
       "regionidneighborhood            0.612624\n",
       "garagetotalsqft                 0.704120\n",
       "garagecarcnt                    0.704120\n",
       "airconditioningtypeid           0.728154\n",
       "numberofstories                 0.771518\n",
       "poolcnt                         0.826634\n",
       "pooltypeid7                     0.837379\n",
       "fireplacecnt                    0.895272\n",
       "threequarterbathnbr             0.895609\n",
       "finishedfloor1squarefeet        0.932093\n",
       "finishedsquarefeet50            0.932093\n",
       "finishedsquarefeet15            0.936086\n",
       "yardbuildingsqft17              0.973082\n",
       "hashottuborspa                  0.976881\n",
       "taxdelinquencyyear              0.981085\n",
       "taxdelinquencyflag              0.981086\n",
       "pooltypeid10                    0.987626\n",
       "pooltypeid2                     0.989255\n",
       "poolsizesum                     0.990634\n",
       "finishedsquarefeet6             0.992630\n",
       "decktypeid                      0.994273\n",
       "buildingclasstypeid             0.995769\n",
       "finishedsquarefeet13            0.997430\n",
       "typeconstructiontypeid          0.997740\n",
       "architecturalstyletypeid        0.997970\n",
       "fireplaceflag                   0.998270\n",
       "yardbuildingsqft26              0.999113\n",
       "basementsqft                    0.999455\n",
       "storytypeid                     0.999456\n",
       "dtype: float64"
      ]
     },
     "execution_count": 7,
     "metadata": {},
     "output_type": "execute_result"
    }
   ],
   "source": [
    "na_percents = properties.isnull().sum()/properties.shape[0]\n",
    "na_percents.sort_values()"
   ]
  },
  {
   "cell_type": "markdown",
   "metadata": {},
   "source": [
    "#### Dtype of each variable"
   ]
  },
  {
   "cell_type": "code",
   "execution_count": 8,
   "metadata": {
    "collapsed": false,
    "scrolled": true
   },
   "outputs": [
    {
     "data": {
      "text/plain": [
       "airconditioningtypeid           float64\n",
       "architecturalstyletypeid        float64\n",
       "basementsqft                    float64\n",
       "bathroomcnt                     float64\n",
       "bedroomcnt                      float64\n",
       "buildingclasstypeid             float64\n",
       "buildingqualitytypeid           float64\n",
       "calculatedbathnbr               float64\n",
       "decktypeid                      float64\n",
       "finishedfloor1squarefeet        float64\n",
       "calculatedfinishedsquarefeet    float64\n",
       "finishedsquarefeet12            float64\n",
       "finishedsquarefeet13            float64\n",
       "finishedsquarefeet15            float64\n",
       "finishedsquarefeet50            float64\n",
       "finishedsquarefeet6             float64\n",
       "fips                            float64\n",
       "fireplacecnt                    float64\n",
       "fullbathcnt                     float64\n",
       "garagecarcnt                    float64\n",
       "garagetotalsqft                 float64\n",
       "hashottuborspa                   object\n",
       "heatingorsystemtypeid           float64\n",
       "latitude                        float64\n",
       "longitude                       float64\n",
       "lotsizesquarefeet               float64\n",
       "poolcnt                         float64\n",
       "poolsizesum                     float64\n",
       "pooltypeid10                    float64\n",
       "pooltypeid2                     float64\n",
       "pooltypeid7                     float64\n",
       "propertycountylandusecode        object\n",
       "propertylandusetypeid           float64\n",
       "propertyzoningdesc               object\n",
       "rawcensustractandblock          float64\n",
       "regionidcity                    float64\n",
       "regionidcounty                  float64\n",
       "regionidneighborhood            float64\n",
       "regionidzip                     float64\n",
       "roomcnt                         float64\n",
       "storytypeid                     float64\n",
       "threequarterbathnbr             float64\n",
       "typeconstructiontypeid          float64\n",
       "unitcnt                         float64\n",
       "yardbuildingsqft17              float64\n",
       "yardbuildingsqft26              float64\n",
       "yearbuilt                       float64\n",
       "numberofstories                 float64\n",
       "fireplaceflag                    object\n",
       "structuretaxvaluedollarcnt      float64\n",
       "taxvaluedollarcnt               float64\n",
       "assessmentyear                  float64\n",
       "landtaxvaluedollarcnt           float64\n",
       "taxamount                       float64\n",
       "taxdelinquencyflag               object\n",
       "taxdelinquencyyear              float64\n",
       "censustractandblock             float64\n",
       "dtype: object"
      ]
     },
     "execution_count": 8,
     "metadata": {},
     "output_type": "execute_result"
    }
   ],
   "source": [
    "properties.dtypes"
   ]
  },
  {
   "cell_type": "code",
   "execution_count": null,
   "metadata": {
    "collapsed": true
   },
   "outputs": [],
   "source": []
  },
  {
   "cell_type": "code",
   "execution_count": null,
   "metadata": {
    "collapsed": true
   },
   "outputs": [],
   "source": []
  },
  {
   "cell_type": "code",
   "execution_count": null,
   "metadata": {
    "collapsed": true
   },
   "outputs": [],
   "source": []
  },
  {
   "cell_type": "code",
   "execution_count": 65,
   "metadata": {
    "collapsed": false
   },
   "outputs": [],
   "source": [
    "def histgram_plot(series,\n",
    "                  is_numeric=None,\n",
    "                  na_ratio=-1,\n",
    "                  return_dict=False):\n",
    "    if is_numeric is None:\n",
    "        raise ValueError('\\'is_numeric\\' must be specified.')\n",
    "    if is_numeric:\n",
    "        data = series.values\n",
    "        data_plot = np.array(data[~np.isnan(data)])\n",
    "    else:\n",
    "        series_clean = series.loc[~series.isnull()]\n",
    "        data_clean = series_clean.values\n",
    "        le = LabelEncoder()\n",
    "        data_plot = le.fit_transform(data_clean)\n",
    "        x_raw = le.classes_\n",
    "        x_encode = le.fit_transform(x_raw)\n",
    "        encode_dict = {}\n",
    "        for i in range(len(x_raw)):\n",
    "            encode_dict[x_raw[i]] = x_encode[i]\n",
    "    if len(np.unique(data_encoder) > 1):\n",
    "        plt.hist(data_encoder,\n",
    "                 bins=20)\n",
    "        plt.title(series.name+' (NA Ratio:{0:.2f}%)'.format(na_ratio))\n",
    "        plt.show()\n",
    "    else:\n",
    "        print(\"WARNING: Data only has a single value.\")\n",
    "    if return_dict:\n",
    "        return encode_dict\n"
   ]
  },
  {
   "cell_type": "markdown",
   "metadata": {},
   "source": [
    "## Histgrams for numerical varibles"
   ]
  },
  {
   "cell_type": "code",
   "execution_count": 66,
   "metadata": {
    "collapsed": false
   },
   "outputs": [
    {
     "data": {
      "image/png": "[encoded data removed]",
      "text/plain": [
       "<matplotlib.figure.Figure at 0x11a68beb8>"
      ]
     },
     "metadata": {},
     "output_type": "display_data"
    }
   ],
   "source": [
    "numeric_variables = properties.columns[properties.dtypes != 'object']\n",
    "for var in ['airconditioningtypeid']:\n",
    "    series = properties[var]\n",
    "    na_ratio = series.isnull().sum()/series.shape[0]*100\n",
    "    histgram_plot(series,is_numeric=True,na_ratio=na_ratio)"
   ]
  },
  {
   "cell_type": "markdown",
   "metadata": {},
   "source": [
    "### `architecturalstyletypeid`"
   ]
  },
  {
   "cell_type": "code",
   "execution_count": null,
   "metadata": {
    "collapsed": true
   },
   "outputs": [],
   "source": []
  },
  {
   "cell_type": "code",
   "execution_count": 57,
   "metadata": {
    "collapsed": false,
    "scrolled": true
   },
   "outputs": [
    {
     "data": {
      "text/plain": [
       "'propertycountylandusecode'"
      ]
     },
     "execution_count": 57,
     "metadata": {},
     "output_type": "execute_result"
    }
   ],
   "source": [
    "histgram_plot(properties['airconditioningtypeid'],\n",
    "              is_numeric=True)"
   ]
  },
  {
   "cell_type": "code",
   "execution_count": 62,
   "metadata": {
    "collapsed": false
   },
   "outputs": [
    {
     "data": {
      "text/plain": [
       "0.004112598849597868"
      ]
     },
     "execution_count": 62,
     "metadata": {},
     "output_type": "execute_result"
    }
   ],
   "source": [
    "series.isnull().sum()/series.shape[0]"
   ]
  },
  {
   "cell_type": "code",
   "execution_count": 67,
   "metadata": {
    "collapsed": false
   },
   "outputs": [
    {
     "data": {
      "text/plain": [
       "2173705"
      ]
     },
     "execution_count": 67,
     "metadata": {},
     "output_type": "execute_result"
    }
   ],
   "source": [
    "len(np.unique(properties['airconditioningtypeid']))"
   ]
  },
  {
   "cell_type": "code",
   "execution_count": 68,
   "metadata": {
    "collapsed": false
   },
   "outputs": [
    {
     "data": {
      "text/plain": [
       "parcelid\n",
       "10754147    NaN\n",
       "10759547    NaN\n",
       "10843547    NaN\n",
       "10859147    NaN\n",
       "10879947    NaN\n",
       "10898347    NaN\n",
       "10933547    NaN\n",
       "10940747    NaN\n",
       "10954547    NaN\n",
       "10976347    NaN\n",
       "11073947    NaN\n",
       "11114347    NaN\n",
       "11116947    NaN\n",
       "11142747    NaN\n",
       "11193347    NaN\n",
       "11215747    NaN\n",
       "11229347    NaN\n",
       "11287347    NaN\n",
       "11288547    NaN\n",
       "11324547    1.0\n",
       "11391347    NaN\n",
       "11395747    NaN\n",
       "11404347    NaN\n",
       "11405747    NaN\n",
       "11417147    NaN\n",
       "11457547    NaN\n",
       "11488147    NaN\n",
       "11520747    NaN\n",
       "11524947    1.0\n",
       "11544747    1.0\n",
       "Name: airconditioningtypeid, dtype: float64"
      ]
     },
     "execution_count": 68,
     "metadata": {},
     "output_type": "execute_result"
    }
   ],
   "source": []
  },
  {
   "cell_type": "code",
   "execution_count": null,
   "metadata": {
    "collapsed": true
   },
   "outputs": [],
   "source": []
  }
 ],
 "metadata": {
  "anaconda-cloud": {},
  "kernelspec": {
   "display_name": "Python [conda root]",
   "language": "python",
   "name": "conda-root-py"
  },
  "language_info": {
   "codemirror_mode": {
    "name": "ipython",
    "version": 3
   },
   "file_extension": ".py",
   "mimetype": "text/x-python",
   "name": "python",
   "nbconvert_exporter": "python",
   "pygments_lexer": "ipython3",
   "version": "3.5.2"
  }
 },
 "nbformat": 4,
 "nbformat_minor": 1
}
