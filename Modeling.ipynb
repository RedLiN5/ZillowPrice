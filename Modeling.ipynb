{
 "cells": [
  {
   "cell_type": "code",
   "execution_count": 2,
   "metadata": {
    "collapsed": false
   },
   "outputs": [],
   "source": [
    "import numpy as np\n",
    "import pandas as pd"
   ]
  },
  {
   "cell_type": "code",
   "execution_count": 4,
   "metadata": {
    "collapsed": false
   },
   "outputs": [
    {
     "name": "stderr",
     "output_type": "stream",
     "text": [
      "/Users/Leslie/anaconda3/lib/python3.5/site-packages/IPython/core/interactiveshell.py:2717: DtypeWarning: Columns (22,32,34,49,55) have mixed types. Specify dtype option on import or set low_memory=False.\n",
      "  interactivity=interactivity, compiler=compiler, result=result)\n"
     ]
    },
    {
     "name": "stdout",
     "output_type": "stream",
     "text": [
      "(90811, 55) (90811,)\n"
     ]
    }
   ],
   "source": [
    "train = pd.read_csv('train_2016.csv')\n",
    "prop = pd.read_csv('properties_2016.csv')\n",
    "\n",
    "for c, dtype in zip(prop.columns, prop.dtypes):\t\n",
    "    if dtype == np.float64:\t\t\n",
    "        prop[c] = prop[c].astype(np.float32)\n",
    "\n",
    "df_train = train.merge(prop, how='left', on='parcelid')\n",
    "\n",
    "x_train = df_train.drop(['parcelid', 'logerror', 'transactiondate', 'propertyzoningdesc', 'propertycountylandusecode'], axis=1)\n",
    "y_train = df_train['logerror'].values\n",
    "print(x_train.shape, y_train.shape)\n",
    "\n",
    "train_columns = x_train.columns\n",
    "\n",
    "for c in x_train.dtypes[x_train.dtypes == object].index.values:\n",
    "    x_train[c] = (x_train[c] == True)\n",
    "\n",
    "\n",
    "split = 90000\n",
    "# x_train, y_train, x_valid, y_valid = x_train[:split], y_train[:split], x_train[split:], y_train[split:]\n",
    "# x_train = x_train.values.astype(np.float32, copy=False)\n",
    "# x_valid = x_valid.values.astype(np.float32, copy=False)"
   ]
  },
  {
   "cell_type": "code",
   "execution_count": null,
   "metadata": {
    "collapsed": true
   },
   "outputs": [],
   "source": []
  },
  {
   "cell_type": "code",
   "execution_count": 9,
   "metadata": {
    "collapsed": true
   },
   "outputs": [],
   "source": [
    "from hyperopt import fmin, tpe, hp, STATUS_OK, Trials\n",
    "from sklearn.model_selection import cross_val_score\n",
    "import xgboost as xgb\n",
    "from sklearn.metrics import mean_absolute_error\n",
    "from sklearn.metrics import make_scorer"
   ]
  },
  {
   "cell_type": "code",
   "execution_count": 17,
   "metadata": {
    "collapsed": false
   },
   "outputs": [],
   "source": [
    "scorer_mae = make_scorer(mean_absolute_error, greater_is_better=False)\n",
    "def hyperopt_train_test(params):\n",
    "    t = params['type']\n",
    "    del params['type']\n",
    "    if t == 'xgb':\n",
    "        reg = xgb.XGBRegressor(**params)\n",
    "    else:\n",
    "        return 0, 0\n",
    "    cv_score = cross_val_score(reg, x_train, y_train, scoring=scorer_mae, cv=5)\n",
    "    score_mean = cv_score.mean()\n",
    "    score_std = cv_score.std()\n",
    "    return score_mean, score_std"
   ]
  },
  {
   "cell_type": "code",
   "execution_count": 18,
   "metadata": {
    "collapsed": true
   },
   "outputs": [],
   "source": [
    "space = hp.choice('classifier_type', [\n",
    "    {\n",
    "        'type': 'xgb',\n",
    "        'learning_rate': hp.uniform('learning_rate', 0.02, 0.1),\n",
    "        'min_child_weight': hp.choice('min_child_weight', range(30, 60)),\n",
    "        'max_depth': hp.choice('max_depth', range(5, 10)),\n",
    "        'subsample': hp.uniform('subsample', 0.2, 0.4),\n",
    "        'n_estimators': hp.choice('n_estimators', range(150, 200)),\n",
    "#         'colsample_bytree': hp.uniform('colsample_bytree', 0.4, 0.6),\n",
    "#         'reg_lambda': hp.uniform('reg_lambda', 1, 2),\n",
    "#         'reg_alpha': hp.uniform('reg_alpha', 1, 2)\n",
    "}])"
   ]
  },
  {
   "cell_type": "code",
   "execution_count": 19,
   "metadata": {
    "collapsed": true
   },
   "outputs": [],
   "source": [
    "def f(params):\n",
    "    global best, count\n",
    "    count += 1\n",
    "    result = hyperopt_train_test(params.copy())\n",
    "    acc = result[0]\n",
    "    std = result[1]\n",
    "    print('iters:', count, ', acc:', acc, 'std:', std, '\\nusing', params, '\\n')\n",
    "    return {'loss': -acc, 'status': STATUS_OK}"
   ]
  },
  {
   "cell_type": "code",
   "execution_count": 20,
   "metadata": {
    "collapsed": false
   },
   "outputs": [
    {
     "name": "stdout",
     "output_type": "stream",
     "text": [
      "iters: 1 , acc: -0.0696628355945 std: 0.0031577906436 \n",
      "using {'n_estimators': 161, 'learning_rate': 0.04341351063395084, 'subsample': 0.2011198373732315, 'max_depth': 6, 'min_child_weight': 46, 'type': 'xgb'} \n",
      "\n",
      "iters: 2 , acc: -0.0697849350389 std: 0.00308450170629 \n",
      "using {'n_estimators': 170, 'learning_rate': 0.06667470420025107, 'subsample': 0.2787160545105113, 'max_depth': 5, 'min_child_weight': 54, 'type': 'xgb'} \n",
      "\n",
      "iters: 3 , acc: -0.0697717012101 std: 0.00308162079381 \n",
      "using {'n_estimators': 163, 'learning_rate': 0.06188881725110355, 'subsample': 0.35630203437981156, 'max_depth': 5, 'min_child_weight': 33, 'type': 'xgb'} \n",
      "\n",
      "iters: 4 , acc: -0.0700098481565 std: 0.00307315404674 \n",
      "using {'n_estimators': 185, 'learning_rate': 0.04554641431545384, 'subsample': 0.24986176061757903, 'max_depth': 8, 'min_child_weight': 40, 'type': 'xgb'} \n",
      "\n",
      "iters: 5 , acc: -0.0695535507155 std: 0.00309841666333 \n",
      "using {'n_estimators': 173, 'learning_rate': 0.0416198137601932, 'subsample': 0.3077468004867197, 'max_depth': 6, 'min_child_weight': 58, 'type': 'xgb'} \n",
      "\n",
      "iters: 6 , acc: -0.0696366161448 std: 0.00311532258401 \n",
      "using {'n_estimators': 180, 'learning_rate': 0.04439655204740094, 'subsample': 0.28675148931102945, 'max_depth': 6, 'min_child_weight': 54, 'type': 'xgb'} \n",
      "\n",
      "iters: 7 , acc: -0.0702658573904 std: 0.0030777483276 \n",
      "using {'n_estimators': 152, 'learning_rate': 0.08568194086798875, 'subsample': 0.25389087892704487, 'max_depth': 6, 'min_child_weight': 57, 'type': 'xgb'} \n",
      "\n",
      "iters: 8 , acc: -0.0708664628852 std: 0.00303724235368 \n",
      "using {'n_estimators': 189, 'learning_rate': 0.08261527139009482, 'subsample': 0.34107309976023725, 'max_depth': 8, 'min_child_weight': 56, 'type': 'xgb'} \n",
      "\n",
      "iters: 9 , acc: -0.0695670731098 std: 0.00309005521787 \n",
      "using {'n_estimators': 190, 'learning_rate': 0.028783075502266026, 'subsample': 0.21919555311422423, 'max_depth': 5, 'min_child_weight': 35, 'type': 'xgb'} \n",
      "\n",
      "iters: 10 , acc: -0.0697948416758 std: 0.0030651158687 \n",
      "using {'n_estimators': 178, 'learning_rate': 0.030192839210472562, 'subsample': 0.3589951719024132, 'max_depth': 9, 'min_child_weight': 59, 'type': 'xgb'} \n",
      "\n",
      "iters: 11 , acc: -0.0696414425359 std: 0.00307559956768 \n",
      "using {'n_estimators': 174, 'learning_rate': 0.038314050872030686, 'subsample': 0.3715550750390633, 'max_depth': 7, 'min_child_weight': 43, 'type': 'xgb'} \n",
      "\n",
      "iters: 12 , acc: -0.0713506445456 std: 0.00303040480644 \n",
      "using {'n_estimators': 183, 'learning_rate': 0.09456893548602671, 'subsample': 0.2506994174385767, 'max_depth': 7, 'min_child_weight': 39, 'type': 'xgb'} \n",
      "\n"
     ]
    },
    {
     "ename": "KeyboardInterrupt",
     "evalue": "",
     "output_type": "error",
     "traceback": [
      "\u001b[0;31m---------------------------------------------------------------------------\u001b[0m",
      "\u001b[0;31mKeyboardInterrupt\u001b[0m                         Traceback (most recent call last)",
      "\u001b[0;32m<ipython-input-20-58b944f4ab9d>\u001b[0m in \u001b[0;36m<module>\u001b[0;34m()\u001b[0m\n\u001b[1;32m      1\u001b[0m \u001b[0mcount\u001b[0m \u001b[0;34m=\u001b[0m \u001b[0;36m0\u001b[0m\u001b[0;34m\u001b[0m\u001b[0m\n\u001b[1;32m      2\u001b[0m \u001b[0mtrials\u001b[0m \u001b[0;34m=\u001b[0m \u001b[0mTrials\u001b[0m\u001b[0;34m(\u001b[0m\u001b[0;34m)\u001b[0m\u001b[0;34m\u001b[0m\u001b[0m\n\u001b[0;32m----> 3\u001b[0;31m \u001b[0mbest\u001b[0m \u001b[0;34m=\u001b[0m \u001b[0mfmin\u001b[0m\u001b[0;34m(\u001b[0m\u001b[0mf\u001b[0m\u001b[0;34m,\u001b[0m \u001b[0mspace\u001b[0m\u001b[0;34m,\u001b[0m \u001b[0malgo\u001b[0m\u001b[0;34m=\u001b[0m\u001b[0mtpe\u001b[0m\u001b[0;34m.\u001b[0m\u001b[0msuggest\u001b[0m\u001b[0;34m,\u001b[0m \u001b[0mmax_evals\u001b[0m\u001b[0;34m=\u001b[0m\u001b[0;36m50\u001b[0m\u001b[0;34m,\u001b[0m \u001b[0mtrials\u001b[0m\u001b[0;34m=\u001b[0m\u001b[0mtrials\u001b[0m\u001b[0;34m)\u001b[0m\u001b[0;34m\u001b[0m\u001b[0m\n\u001b[0m",
      "\u001b[0;32m/Users/Leslie/anaconda3/lib/python3.5/site-packages/hyperopt-0.1-py3.5.egg/hyperopt/fmin.py\u001b[0m in \u001b[0;36mfmin\u001b[0;34m(fn, space, algo, max_evals, trials, rstate, allow_trials_fmin, pass_expr_memo_ctrl, catch_eval_exceptions, verbose, return_argmin)\u001b[0m\n\u001b[1;32m    305\u001b[0m             \u001b[0mverbose\u001b[0m\u001b[0;34m=\u001b[0m\u001b[0mverbose\u001b[0m\u001b[0;34m,\u001b[0m\u001b[0;34m\u001b[0m\u001b[0m\n\u001b[1;32m    306\u001b[0m             \u001b[0mcatch_eval_exceptions\u001b[0m\u001b[0;34m=\u001b[0m\u001b[0mcatch_eval_exceptions\u001b[0m\u001b[0;34m,\u001b[0m\u001b[0;34m\u001b[0m\u001b[0m\n\u001b[0;32m--> 307\u001b[0;31m             \u001b[0mreturn_argmin\u001b[0m\u001b[0;34m=\u001b[0m\u001b[0mreturn_argmin\u001b[0m\u001b[0;34m,\u001b[0m\u001b[0;34m\u001b[0m\u001b[0m\n\u001b[0m\u001b[1;32m    308\u001b[0m         )\n\u001b[1;32m    309\u001b[0m \u001b[0;34m\u001b[0m\u001b[0m\n",
      "\u001b[0;32m/Users/Leslie/anaconda3/lib/python3.5/site-packages/hyperopt-0.1-py3.5.egg/hyperopt/base.py\u001b[0m in \u001b[0;36mfmin\u001b[0;34m(self, fn, space, algo, max_evals, rstate, verbose, pass_expr_memo_ctrl, catch_eval_exceptions, return_argmin)\u001b[0m\n\u001b[1;32m    633\u001b[0m             \u001b[0mpass_expr_memo_ctrl\u001b[0m\u001b[0;34m=\u001b[0m\u001b[0mpass_expr_memo_ctrl\u001b[0m\u001b[0;34m,\u001b[0m\u001b[0;34m\u001b[0m\u001b[0m\n\u001b[1;32m    634\u001b[0m             \u001b[0mcatch_eval_exceptions\u001b[0m\u001b[0;34m=\u001b[0m\u001b[0mcatch_eval_exceptions\u001b[0m\u001b[0;34m,\u001b[0m\u001b[0;34m\u001b[0m\u001b[0m\n\u001b[0;32m--> 635\u001b[0;31m             return_argmin=return_argmin)\n\u001b[0m\u001b[1;32m    636\u001b[0m \u001b[0;34m\u001b[0m\u001b[0m\n\u001b[1;32m    637\u001b[0m \u001b[0;34m\u001b[0m\u001b[0m\n",
      "\u001b[0;32m/Users/Leslie/anaconda3/lib/python3.5/site-packages/hyperopt-0.1-py3.5.egg/hyperopt/fmin.py\u001b[0m in \u001b[0;36mfmin\u001b[0;34m(fn, space, algo, max_evals, trials, rstate, allow_trials_fmin, pass_expr_memo_ctrl, catch_eval_exceptions, verbose, return_argmin)\u001b[0m\n\u001b[1;32m    318\u001b[0m                     verbose=verbose)\n\u001b[1;32m    319\u001b[0m     \u001b[0mrval\u001b[0m\u001b[0;34m.\u001b[0m\u001b[0mcatch_eval_exceptions\u001b[0m \u001b[0;34m=\u001b[0m \u001b[0mcatch_eval_exceptions\u001b[0m\u001b[0;34m\u001b[0m\u001b[0m\n\u001b[0;32m--> 320\u001b[0;31m     \u001b[0mrval\u001b[0m\u001b[0;34m.\u001b[0m\u001b[0mexhaust\u001b[0m\u001b[0;34m(\u001b[0m\u001b[0;34m)\u001b[0m\u001b[0;34m\u001b[0m\u001b[0m\n\u001b[0m\u001b[1;32m    321\u001b[0m     \u001b[0;32mif\u001b[0m \u001b[0mreturn_argmin\u001b[0m\u001b[0;34m:\u001b[0m\u001b[0;34m\u001b[0m\u001b[0m\n\u001b[1;32m    322\u001b[0m         \u001b[0;32mreturn\u001b[0m \u001b[0mtrials\u001b[0m\u001b[0;34m.\u001b[0m\u001b[0margmin\u001b[0m\u001b[0;34m\u001b[0m\u001b[0m\n",
      "\u001b[0;32m/Users/Leslie/anaconda3/lib/python3.5/site-packages/hyperopt-0.1-py3.5.egg/hyperopt/fmin.py\u001b[0m in \u001b[0;36mexhaust\u001b[0;34m(self)\u001b[0m\n\u001b[1;32m    197\u001b[0m     \u001b[0;32mdef\u001b[0m \u001b[0mexhaust\u001b[0m\u001b[0;34m(\u001b[0m\u001b[0mself\u001b[0m\u001b[0;34m)\u001b[0m\u001b[0;34m:\u001b[0m\u001b[0;34m\u001b[0m\u001b[0m\n\u001b[1;32m    198\u001b[0m         \u001b[0mn_done\u001b[0m \u001b[0;34m=\u001b[0m \u001b[0mlen\u001b[0m\u001b[0;34m(\u001b[0m\u001b[0mself\u001b[0m\u001b[0;34m.\u001b[0m\u001b[0mtrials\u001b[0m\u001b[0;34m)\u001b[0m\u001b[0;34m\u001b[0m\u001b[0m\n\u001b[0;32m--> 199\u001b[0;31m         \u001b[0mself\u001b[0m\u001b[0;34m.\u001b[0m\u001b[0mrun\u001b[0m\u001b[0;34m(\u001b[0m\u001b[0mself\u001b[0m\u001b[0;34m.\u001b[0m\u001b[0mmax_evals\u001b[0m \u001b[0;34m-\u001b[0m \u001b[0mn_done\u001b[0m\u001b[0;34m,\u001b[0m \u001b[0mblock_until_done\u001b[0m\u001b[0;34m=\u001b[0m\u001b[0mself\u001b[0m\u001b[0;34m.\u001b[0m\u001b[0masync\u001b[0m\u001b[0;34m)\u001b[0m\u001b[0;34m\u001b[0m\u001b[0m\n\u001b[0m\u001b[1;32m    200\u001b[0m         \u001b[0mself\u001b[0m\u001b[0;34m.\u001b[0m\u001b[0mtrials\u001b[0m\u001b[0;34m.\u001b[0m\u001b[0mrefresh\u001b[0m\u001b[0;34m(\u001b[0m\u001b[0;34m)\u001b[0m\u001b[0;34m\u001b[0m\u001b[0m\n\u001b[1;32m    201\u001b[0m         \u001b[0;32mreturn\u001b[0m \u001b[0mself\u001b[0m\u001b[0;34m\u001b[0m\u001b[0m\n",
      "\u001b[0;32m/Users/Leslie/anaconda3/lib/python3.5/site-packages/hyperopt-0.1-py3.5.egg/hyperopt/fmin.py\u001b[0m in \u001b[0;36mrun\u001b[0;34m(self, N, block_until_done)\u001b[0m\n\u001b[1;32m    171\u001b[0m             \u001b[0;32melse\u001b[0m\u001b[0;34m:\u001b[0m\u001b[0;34m\u001b[0m\u001b[0m\n\u001b[1;32m    172\u001b[0m                 \u001b[0;31m# -- loop over trials and do the jobs directly\u001b[0m\u001b[0;34m\u001b[0m\u001b[0;34m\u001b[0m\u001b[0m\n\u001b[0;32m--> 173\u001b[0;31m                 \u001b[0mself\u001b[0m\u001b[0;34m.\u001b[0m\u001b[0mserial_evaluate\u001b[0m\u001b[0;34m(\u001b[0m\u001b[0;34m)\u001b[0m\u001b[0;34m\u001b[0m\u001b[0m\n\u001b[0m\u001b[1;32m    174\u001b[0m \u001b[0;34m\u001b[0m\u001b[0m\n\u001b[1;32m    175\u001b[0m             \u001b[0;32mif\u001b[0m \u001b[0mstopped\u001b[0m\u001b[0;34m:\u001b[0m\u001b[0;34m\u001b[0m\u001b[0m\n",
      "\u001b[0;32m/Users/Leslie/anaconda3/lib/python3.5/site-packages/hyperopt-0.1-py3.5.egg/hyperopt/fmin.py\u001b[0m in \u001b[0;36mserial_evaluate\u001b[0;34m(self, N)\u001b[0m\n\u001b[1;32m     90\u001b[0m                 \u001b[0mctrl\u001b[0m \u001b[0;34m=\u001b[0m \u001b[0mbase\u001b[0m\u001b[0;34m.\u001b[0m\u001b[0mCtrl\u001b[0m\u001b[0;34m(\u001b[0m\u001b[0mself\u001b[0m\u001b[0;34m.\u001b[0m\u001b[0mtrials\u001b[0m\u001b[0;34m,\u001b[0m \u001b[0mcurrent_trial\u001b[0m\u001b[0;34m=\u001b[0m\u001b[0mtrial\u001b[0m\u001b[0;34m)\u001b[0m\u001b[0;34m\u001b[0m\u001b[0m\n\u001b[1;32m     91\u001b[0m                 \u001b[0;32mtry\u001b[0m\u001b[0;34m:\u001b[0m\u001b[0;34m\u001b[0m\u001b[0m\n\u001b[0;32m---> 92\u001b[0;31m                     \u001b[0mresult\u001b[0m \u001b[0;34m=\u001b[0m \u001b[0mself\u001b[0m\u001b[0;34m.\u001b[0m\u001b[0mdomain\u001b[0m\u001b[0;34m.\u001b[0m\u001b[0mevaluate\u001b[0m\u001b[0;34m(\u001b[0m\u001b[0mspec\u001b[0m\u001b[0;34m,\u001b[0m \u001b[0mctrl\u001b[0m\u001b[0;34m)\u001b[0m\u001b[0;34m\u001b[0m\u001b[0m\n\u001b[0m\u001b[1;32m     93\u001b[0m                 \u001b[0;32mexcept\u001b[0m \u001b[0mException\u001b[0m \u001b[0;32mas\u001b[0m \u001b[0me\u001b[0m\u001b[0;34m:\u001b[0m\u001b[0;34m\u001b[0m\u001b[0m\n\u001b[1;32m     94\u001b[0m                     \u001b[0mlogger\u001b[0m\u001b[0;34m.\u001b[0m\u001b[0minfo\u001b[0m\u001b[0;34m(\u001b[0m\u001b[0;34m'job exception: %s'\u001b[0m \u001b[0;34m%\u001b[0m \u001b[0mstr\u001b[0m\u001b[0;34m(\u001b[0m\u001b[0me\u001b[0m\u001b[0;34m)\u001b[0m\u001b[0;34m)\u001b[0m\u001b[0;34m\u001b[0m\u001b[0m\n",
      "\u001b[0;32m/Users/Leslie/anaconda3/lib/python3.5/site-packages/hyperopt-0.1-py3.5.egg/hyperopt/base.py\u001b[0m in \u001b[0;36mevaluate\u001b[0;34m(self, config, ctrl, attach_attachments)\u001b[0m\n\u001b[1;32m    838\u001b[0m                 \u001b[0mmemo\u001b[0m\u001b[0;34m=\u001b[0m\u001b[0mmemo\u001b[0m\u001b[0;34m,\u001b[0m\u001b[0;34m\u001b[0m\u001b[0m\n\u001b[1;32m    839\u001b[0m                 print_node_on_error=self.rec_eval_print_node_on_error)\n\u001b[0;32m--> 840\u001b[0;31m             \u001b[0mrval\u001b[0m \u001b[0;34m=\u001b[0m \u001b[0mself\u001b[0m\u001b[0;34m.\u001b[0m\u001b[0mfn\u001b[0m\u001b[0;34m(\u001b[0m\u001b[0mpyll_rval\u001b[0m\u001b[0;34m)\u001b[0m\u001b[0;34m\u001b[0m\u001b[0m\n\u001b[0m\u001b[1;32m    841\u001b[0m \u001b[0;34m\u001b[0m\u001b[0m\n\u001b[1;32m    842\u001b[0m         \u001b[0;32mif\u001b[0m \u001b[0misinstance\u001b[0m\u001b[0;34m(\u001b[0m\u001b[0mrval\u001b[0m\u001b[0;34m,\u001b[0m \u001b[0;34m(\u001b[0m\u001b[0mfloat\u001b[0m\u001b[0;34m,\u001b[0m \u001b[0mint\u001b[0m\u001b[0;34m,\u001b[0m \u001b[0mnp\u001b[0m\u001b[0;34m.\u001b[0m\u001b[0mnumber\u001b[0m\u001b[0;34m)\u001b[0m\u001b[0;34m)\u001b[0m\u001b[0;34m:\u001b[0m\u001b[0;34m\u001b[0m\u001b[0m\n",
      "\u001b[0;32m<ipython-input-19-0d7a47c05b87>\u001b[0m in \u001b[0;36mf\u001b[0;34m(params)\u001b[0m\n\u001b[1;32m      2\u001b[0m     \u001b[0;32mglobal\u001b[0m \u001b[0mbest\u001b[0m\u001b[0;34m,\u001b[0m \u001b[0mcount\u001b[0m\u001b[0;34m\u001b[0m\u001b[0m\n\u001b[1;32m      3\u001b[0m     \u001b[0mcount\u001b[0m \u001b[0;34m+=\u001b[0m \u001b[0;36m1\u001b[0m\u001b[0;34m\u001b[0m\u001b[0m\n\u001b[0;32m----> 4\u001b[0;31m     \u001b[0mresult\u001b[0m \u001b[0;34m=\u001b[0m \u001b[0mhyperopt_train_test\u001b[0m\u001b[0;34m(\u001b[0m\u001b[0mparams\u001b[0m\u001b[0;34m.\u001b[0m\u001b[0mcopy\u001b[0m\u001b[0;34m(\u001b[0m\u001b[0;34m)\u001b[0m\u001b[0;34m)\u001b[0m\u001b[0;34m\u001b[0m\u001b[0m\n\u001b[0m\u001b[1;32m      5\u001b[0m     \u001b[0macc\u001b[0m \u001b[0;34m=\u001b[0m \u001b[0mresult\u001b[0m\u001b[0;34m[\u001b[0m\u001b[0;36m0\u001b[0m\u001b[0;34m]\u001b[0m\u001b[0;34m\u001b[0m\u001b[0m\n\u001b[1;32m      6\u001b[0m     \u001b[0mstd\u001b[0m \u001b[0;34m=\u001b[0m \u001b[0mresult\u001b[0m\u001b[0;34m[\u001b[0m\u001b[0;36m1\u001b[0m\u001b[0;34m]\u001b[0m\u001b[0;34m\u001b[0m\u001b[0m\n",
      "\u001b[0;32m<ipython-input-17-e5477a39e619>\u001b[0m in \u001b[0;36mhyperopt_train_test\u001b[0;34m(params)\u001b[0m\n\u001b[1;32m      7\u001b[0m     \u001b[0;32melse\u001b[0m\u001b[0;34m:\u001b[0m\u001b[0;34m\u001b[0m\u001b[0m\n\u001b[1;32m      8\u001b[0m         \u001b[0;32mreturn\u001b[0m \u001b[0;36m0\u001b[0m\u001b[0;34m,\u001b[0m \u001b[0;36m0\u001b[0m\u001b[0;34m\u001b[0m\u001b[0m\n\u001b[0;32m----> 9\u001b[0;31m     \u001b[0mcv_score\u001b[0m \u001b[0;34m=\u001b[0m \u001b[0mcross_val_score\u001b[0m\u001b[0;34m(\u001b[0m\u001b[0mreg\u001b[0m\u001b[0;34m,\u001b[0m \u001b[0mx_train\u001b[0m\u001b[0;34m,\u001b[0m \u001b[0my_train\u001b[0m\u001b[0;34m,\u001b[0m \u001b[0mscoring\u001b[0m\u001b[0;34m=\u001b[0m\u001b[0mscorer_mae\u001b[0m\u001b[0;34m,\u001b[0m \u001b[0mcv\u001b[0m\u001b[0;34m=\u001b[0m\u001b[0;36m5\u001b[0m\u001b[0;34m)\u001b[0m\u001b[0;34m\u001b[0m\u001b[0m\n\u001b[0m\u001b[1;32m     10\u001b[0m     \u001b[0mscore_mean\u001b[0m \u001b[0;34m=\u001b[0m \u001b[0mcv_score\u001b[0m\u001b[0;34m.\u001b[0m\u001b[0mmean\u001b[0m\u001b[0;34m(\u001b[0m\u001b[0;34m)\u001b[0m\u001b[0;34m\u001b[0m\u001b[0m\n\u001b[1;32m     11\u001b[0m     \u001b[0mscore_std\u001b[0m \u001b[0;34m=\u001b[0m \u001b[0mcv_score\u001b[0m\u001b[0;34m.\u001b[0m\u001b[0mstd\u001b[0m\u001b[0;34m(\u001b[0m\u001b[0;34m)\u001b[0m\u001b[0;34m\u001b[0m\u001b[0m\n",
      "\u001b[0;32m/Users/Leslie/anaconda3/lib/python3.5/site-packages/sklearn/model_selection/_validation.py\u001b[0m in \u001b[0;36mcross_val_score\u001b[0;34m(estimator, X, y, groups, scoring, cv, n_jobs, verbose, fit_params, pre_dispatch)\u001b[0m\n\u001b[1;32m    138\u001b[0m                                               \u001b[0mtrain\u001b[0m\u001b[0;34m,\u001b[0m \u001b[0mtest\u001b[0m\u001b[0;34m,\u001b[0m \u001b[0mverbose\u001b[0m\u001b[0;34m,\u001b[0m \u001b[0;32mNone\u001b[0m\u001b[0;34m,\u001b[0m\u001b[0;34m\u001b[0m\u001b[0m\n\u001b[1;32m    139\u001b[0m                                               fit_params)\n\u001b[0;32m--> 140\u001b[0;31m                       for train, test in cv_iter)\n\u001b[0m\u001b[1;32m    141\u001b[0m     \u001b[0;32mreturn\u001b[0m \u001b[0mnp\u001b[0m\u001b[0;34m.\u001b[0m\u001b[0marray\u001b[0m\u001b[0;34m(\u001b[0m\u001b[0mscores\u001b[0m\u001b[0;34m)\u001b[0m\u001b[0;34m[\u001b[0m\u001b[0;34m:\u001b[0m\u001b[0;34m,\u001b[0m \u001b[0;36m0\u001b[0m\u001b[0;34m]\u001b[0m\u001b[0;34m\u001b[0m\u001b[0m\n\u001b[1;32m    142\u001b[0m \u001b[0;34m\u001b[0m\u001b[0m\n",
      "\u001b[0;32m/Users/Leslie/anaconda3/lib/python3.5/site-packages/sklearn/externals/joblib/parallel.py\u001b[0m in \u001b[0;36m__call__\u001b[0;34m(self, iterable)\u001b[0m\n\u001b[1;32m    756\u001b[0m             \u001b[0;31m# was dispatched. In particular this covers the edge\u001b[0m\u001b[0;34m\u001b[0m\u001b[0;34m\u001b[0m\u001b[0m\n\u001b[1;32m    757\u001b[0m             \u001b[0;31m# case of Parallel used with an exhausted iterator.\u001b[0m\u001b[0;34m\u001b[0m\u001b[0;34m\u001b[0m\u001b[0m\n\u001b[0;32m--> 758\u001b[0;31m             \u001b[0;32mwhile\u001b[0m \u001b[0mself\u001b[0m\u001b[0;34m.\u001b[0m\u001b[0mdispatch_one_batch\u001b[0m\u001b[0;34m(\u001b[0m\u001b[0miterator\u001b[0m\u001b[0;34m)\u001b[0m\u001b[0;34m:\u001b[0m\u001b[0;34m\u001b[0m\u001b[0m\n\u001b[0m\u001b[1;32m    759\u001b[0m                 \u001b[0mself\u001b[0m\u001b[0;34m.\u001b[0m\u001b[0m_iterating\u001b[0m \u001b[0;34m=\u001b[0m \u001b[0;32mTrue\u001b[0m\u001b[0;34m\u001b[0m\u001b[0m\n\u001b[1;32m    760\u001b[0m             \u001b[0;32melse\u001b[0m\u001b[0;34m:\u001b[0m\u001b[0;34m\u001b[0m\u001b[0m\n",
      "\u001b[0;32m/Users/Leslie/anaconda3/lib/python3.5/site-packages/sklearn/externals/joblib/parallel.py\u001b[0m in \u001b[0;36mdispatch_one_batch\u001b[0;34m(self, iterator)\u001b[0m\n\u001b[1;32m    606\u001b[0m                 \u001b[0;32mreturn\u001b[0m \u001b[0;32mFalse\u001b[0m\u001b[0;34m\u001b[0m\u001b[0m\n\u001b[1;32m    607\u001b[0m             \u001b[0;32melse\u001b[0m\u001b[0;34m:\u001b[0m\u001b[0;34m\u001b[0m\u001b[0m\n\u001b[0;32m--> 608\u001b[0;31m                 \u001b[0mself\u001b[0m\u001b[0;34m.\u001b[0m\u001b[0m_dispatch\u001b[0m\u001b[0;34m(\u001b[0m\u001b[0mtasks\u001b[0m\u001b[0;34m)\u001b[0m\u001b[0;34m\u001b[0m\u001b[0m\n\u001b[0m\u001b[1;32m    609\u001b[0m                 \u001b[0;32mreturn\u001b[0m \u001b[0;32mTrue\u001b[0m\u001b[0;34m\u001b[0m\u001b[0m\n\u001b[1;32m    610\u001b[0m \u001b[0;34m\u001b[0m\u001b[0m\n",
      "\u001b[0;32m/Users/Leslie/anaconda3/lib/python3.5/site-packages/sklearn/externals/joblib/parallel.py\u001b[0m in \u001b[0;36m_dispatch\u001b[0;34m(self, batch)\u001b[0m\n\u001b[1;32m    569\u001b[0m         \u001b[0mdispatch_timestamp\u001b[0m \u001b[0;34m=\u001b[0m \u001b[0mtime\u001b[0m\u001b[0;34m.\u001b[0m\u001b[0mtime\u001b[0m\u001b[0;34m(\u001b[0m\u001b[0;34m)\u001b[0m\u001b[0;34m\u001b[0m\u001b[0m\n\u001b[1;32m    570\u001b[0m         \u001b[0mcb\u001b[0m \u001b[0;34m=\u001b[0m \u001b[0mBatchCompletionCallBack\u001b[0m\u001b[0;34m(\u001b[0m\u001b[0mdispatch_timestamp\u001b[0m\u001b[0;34m,\u001b[0m \u001b[0mlen\u001b[0m\u001b[0;34m(\u001b[0m\u001b[0mbatch\u001b[0m\u001b[0;34m)\u001b[0m\u001b[0;34m,\u001b[0m \u001b[0mself\u001b[0m\u001b[0;34m)\u001b[0m\u001b[0;34m\u001b[0m\u001b[0m\n\u001b[0;32m--> 571\u001b[0;31m         \u001b[0mjob\u001b[0m \u001b[0;34m=\u001b[0m \u001b[0mself\u001b[0m\u001b[0;34m.\u001b[0m\u001b[0m_backend\u001b[0m\u001b[0;34m.\u001b[0m\u001b[0mapply_async\u001b[0m\u001b[0;34m(\u001b[0m\u001b[0mbatch\u001b[0m\u001b[0;34m,\u001b[0m \u001b[0mcallback\u001b[0m\u001b[0;34m=\u001b[0m\u001b[0mcb\u001b[0m\u001b[0;34m)\u001b[0m\u001b[0;34m\u001b[0m\u001b[0m\n\u001b[0m\u001b[1;32m    572\u001b[0m         \u001b[0mself\u001b[0m\u001b[0;34m.\u001b[0m\u001b[0m_jobs\u001b[0m\u001b[0;34m.\u001b[0m\u001b[0mappend\u001b[0m\u001b[0;34m(\u001b[0m\u001b[0mjob\u001b[0m\u001b[0;34m)\u001b[0m\u001b[0;34m\u001b[0m\u001b[0m\n\u001b[1;32m    573\u001b[0m \u001b[0;34m\u001b[0m\u001b[0m\n",
      "\u001b[0;32m/Users/Leslie/anaconda3/lib/python3.5/site-packages/sklearn/externals/joblib/_parallel_backends.py\u001b[0m in \u001b[0;36mapply_async\u001b[0;34m(self, func, callback)\u001b[0m\n\u001b[1;32m    107\u001b[0m     \u001b[0;32mdef\u001b[0m \u001b[0mapply_async\u001b[0m\u001b[0;34m(\u001b[0m\u001b[0mself\u001b[0m\u001b[0;34m,\u001b[0m \u001b[0mfunc\u001b[0m\u001b[0;34m,\u001b[0m \u001b[0mcallback\u001b[0m\u001b[0;34m=\u001b[0m\u001b[0;32mNone\u001b[0m\u001b[0;34m)\u001b[0m\u001b[0;34m:\u001b[0m\u001b[0;34m\u001b[0m\u001b[0m\n\u001b[1;32m    108\u001b[0m         \u001b[0;34m\"\"\"Schedule a func to be run\"\"\"\u001b[0m\u001b[0;34m\u001b[0m\u001b[0m\n\u001b[0;32m--> 109\u001b[0;31m         \u001b[0mresult\u001b[0m \u001b[0;34m=\u001b[0m \u001b[0mImmediateResult\u001b[0m\u001b[0;34m(\u001b[0m\u001b[0mfunc\u001b[0m\u001b[0;34m)\u001b[0m\u001b[0;34m\u001b[0m\u001b[0m\n\u001b[0m\u001b[1;32m    110\u001b[0m         \u001b[0;32mif\u001b[0m \u001b[0mcallback\u001b[0m\u001b[0;34m:\u001b[0m\u001b[0;34m\u001b[0m\u001b[0m\n\u001b[1;32m    111\u001b[0m             \u001b[0mcallback\u001b[0m\u001b[0;34m(\u001b[0m\u001b[0mresult\u001b[0m\u001b[0;34m)\u001b[0m\u001b[0;34m\u001b[0m\u001b[0m\n",
      "\u001b[0;32m/Users/Leslie/anaconda3/lib/python3.5/site-packages/sklearn/externals/joblib/_parallel_backends.py\u001b[0m in \u001b[0;36m__init__\u001b[0;34m(self, batch)\u001b[0m\n\u001b[1;32m    324\u001b[0m         \u001b[0;31m# Don't delay the application, to avoid keeping the input\u001b[0m\u001b[0;34m\u001b[0m\u001b[0;34m\u001b[0m\u001b[0m\n\u001b[1;32m    325\u001b[0m         \u001b[0;31m# arguments in memory\u001b[0m\u001b[0;34m\u001b[0m\u001b[0;34m\u001b[0m\u001b[0m\n\u001b[0;32m--> 326\u001b[0;31m         \u001b[0mself\u001b[0m\u001b[0;34m.\u001b[0m\u001b[0mresults\u001b[0m \u001b[0;34m=\u001b[0m \u001b[0mbatch\u001b[0m\u001b[0;34m(\u001b[0m\u001b[0;34m)\u001b[0m\u001b[0;34m\u001b[0m\u001b[0m\n\u001b[0m\u001b[1;32m    327\u001b[0m \u001b[0;34m\u001b[0m\u001b[0m\n\u001b[1;32m    328\u001b[0m     \u001b[0;32mdef\u001b[0m \u001b[0mget\u001b[0m\u001b[0;34m(\u001b[0m\u001b[0mself\u001b[0m\u001b[0;34m)\u001b[0m\u001b[0;34m:\u001b[0m\u001b[0;34m\u001b[0m\u001b[0m\n",
      "\u001b[0;32m/Users/Leslie/anaconda3/lib/python3.5/site-packages/sklearn/externals/joblib/parallel.py\u001b[0m in \u001b[0;36m__call__\u001b[0;34m(self)\u001b[0m\n\u001b[1;32m    129\u001b[0m \u001b[0;34m\u001b[0m\u001b[0m\n\u001b[1;32m    130\u001b[0m     \u001b[0;32mdef\u001b[0m \u001b[0m__call__\u001b[0m\u001b[0;34m(\u001b[0m\u001b[0mself\u001b[0m\u001b[0;34m)\u001b[0m\u001b[0;34m:\u001b[0m\u001b[0;34m\u001b[0m\u001b[0m\n\u001b[0;32m--> 131\u001b[0;31m         \u001b[0;32mreturn\u001b[0m \u001b[0;34m[\u001b[0m\u001b[0mfunc\u001b[0m\u001b[0;34m(\u001b[0m\u001b[0;34m*\u001b[0m\u001b[0margs\u001b[0m\u001b[0;34m,\u001b[0m \u001b[0;34m**\u001b[0m\u001b[0mkwargs\u001b[0m\u001b[0;34m)\u001b[0m \u001b[0;32mfor\u001b[0m \u001b[0mfunc\u001b[0m\u001b[0;34m,\u001b[0m \u001b[0margs\u001b[0m\u001b[0;34m,\u001b[0m \u001b[0mkwargs\u001b[0m \u001b[0;32min\u001b[0m \u001b[0mself\u001b[0m\u001b[0;34m.\u001b[0m\u001b[0mitems\u001b[0m\u001b[0;34m]\u001b[0m\u001b[0;34m\u001b[0m\u001b[0m\n\u001b[0m\u001b[1;32m    132\u001b[0m \u001b[0;34m\u001b[0m\u001b[0m\n\u001b[1;32m    133\u001b[0m     \u001b[0;32mdef\u001b[0m \u001b[0m__len__\u001b[0m\u001b[0;34m(\u001b[0m\u001b[0mself\u001b[0m\u001b[0;34m)\u001b[0m\u001b[0;34m:\u001b[0m\u001b[0;34m\u001b[0m\u001b[0m\n",
      "\u001b[0;32m/Users/Leslie/anaconda3/lib/python3.5/site-packages/sklearn/externals/joblib/parallel.py\u001b[0m in \u001b[0;36m<listcomp>\u001b[0;34m(.0)\u001b[0m\n\u001b[1;32m    129\u001b[0m \u001b[0;34m\u001b[0m\u001b[0m\n\u001b[1;32m    130\u001b[0m     \u001b[0;32mdef\u001b[0m \u001b[0m__call__\u001b[0m\u001b[0;34m(\u001b[0m\u001b[0mself\u001b[0m\u001b[0;34m)\u001b[0m\u001b[0;34m:\u001b[0m\u001b[0;34m\u001b[0m\u001b[0m\n\u001b[0;32m--> 131\u001b[0;31m         \u001b[0;32mreturn\u001b[0m \u001b[0;34m[\u001b[0m\u001b[0mfunc\u001b[0m\u001b[0;34m(\u001b[0m\u001b[0;34m*\u001b[0m\u001b[0margs\u001b[0m\u001b[0;34m,\u001b[0m \u001b[0;34m**\u001b[0m\u001b[0mkwargs\u001b[0m\u001b[0;34m)\u001b[0m \u001b[0;32mfor\u001b[0m \u001b[0mfunc\u001b[0m\u001b[0;34m,\u001b[0m \u001b[0margs\u001b[0m\u001b[0;34m,\u001b[0m \u001b[0mkwargs\u001b[0m \u001b[0;32min\u001b[0m \u001b[0mself\u001b[0m\u001b[0;34m.\u001b[0m\u001b[0mitems\u001b[0m\u001b[0;34m]\u001b[0m\u001b[0;34m\u001b[0m\u001b[0m\n\u001b[0m\u001b[1;32m    132\u001b[0m \u001b[0;34m\u001b[0m\u001b[0m\n\u001b[1;32m    133\u001b[0m     \u001b[0;32mdef\u001b[0m \u001b[0m__len__\u001b[0m\u001b[0;34m(\u001b[0m\u001b[0mself\u001b[0m\u001b[0;34m)\u001b[0m\u001b[0;34m:\u001b[0m\u001b[0;34m\u001b[0m\u001b[0m\n",
      "\u001b[0;32m/Users/Leslie/anaconda3/lib/python3.5/site-packages/sklearn/model_selection/_validation.py\u001b[0m in \u001b[0;36m_fit_and_score\u001b[0;34m(estimator, X, y, scorer, train, test, verbose, parameters, fit_params, return_train_score, return_parameters, return_n_test_samples, return_times, error_score)\u001b[0m\n\u001b[1;32m    236\u001b[0m             \u001b[0mestimator\u001b[0m\u001b[0;34m.\u001b[0m\u001b[0mfit\u001b[0m\u001b[0;34m(\u001b[0m\u001b[0mX_train\u001b[0m\u001b[0;34m,\u001b[0m \u001b[0;34m**\u001b[0m\u001b[0mfit_params\u001b[0m\u001b[0;34m)\u001b[0m\u001b[0;34m\u001b[0m\u001b[0m\n\u001b[1;32m    237\u001b[0m         \u001b[0;32melse\u001b[0m\u001b[0;34m:\u001b[0m\u001b[0;34m\u001b[0m\u001b[0m\n\u001b[0;32m--> 238\u001b[0;31m             \u001b[0mestimator\u001b[0m\u001b[0;34m.\u001b[0m\u001b[0mfit\u001b[0m\u001b[0;34m(\u001b[0m\u001b[0mX_train\u001b[0m\u001b[0;34m,\u001b[0m \u001b[0my_train\u001b[0m\u001b[0;34m,\u001b[0m \u001b[0;34m**\u001b[0m\u001b[0mfit_params\u001b[0m\u001b[0;34m)\u001b[0m\u001b[0;34m\u001b[0m\u001b[0m\n\u001b[0m\u001b[1;32m    239\u001b[0m \u001b[0;34m\u001b[0m\u001b[0m\n\u001b[1;32m    240\u001b[0m     \u001b[0;32mexcept\u001b[0m \u001b[0mException\u001b[0m \u001b[0;32mas\u001b[0m \u001b[0me\u001b[0m\u001b[0;34m:\u001b[0m\u001b[0;34m\u001b[0m\u001b[0m\n",
      "\u001b[0;32m/Users/Leslie/anaconda3/lib/python3.5/site-packages/xgboost-0.6-py3.5.egg/xgboost/sklearn.py\u001b[0m in \u001b[0;36mfit\u001b[0;34m(self, X, y, sample_weight, eval_set, eval_metric, early_stopping_rounds, verbose)\u001b[0m\n\u001b[1;32m    254\u001b[0m                               \u001b[0mearly_stopping_rounds\u001b[0m\u001b[0;34m=\u001b[0m\u001b[0mearly_stopping_rounds\u001b[0m\u001b[0;34m,\u001b[0m\u001b[0;34m\u001b[0m\u001b[0m\n\u001b[1;32m    255\u001b[0m                               \u001b[0mevals_result\u001b[0m\u001b[0;34m=\u001b[0m\u001b[0mevals_result\u001b[0m\u001b[0;34m,\u001b[0m \u001b[0mobj\u001b[0m\u001b[0;34m=\u001b[0m\u001b[0mobj\u001b[0m\u001b[0;34m,\u001b[0m \u001b[0mfeval\u001b[0m\u001b[0;34m=\u001b[0m\u001b[0mfeval\u001b[0m\u001b[0;34m,\u001b[0m\u001b[0;34m\u001b[0m\u001b[0m\n\u001b[0;32m--> 256\u001b[0;31m                               verbose_eval=verbose)\n\u001b[0m\u001b[1;32m    257\u001b[0m \u001b[0;34m\u001b[0m\u001b[0m\n\u001b[1;32m    258\u001b[0m         \u001b[0;32mif\u001b[0m \u001b[0mevals_result\u001b[0m\u001b[0;34m:\u001b[0m\u001b[0;34m\u001b[0m\u001b[0m\n",
      "\u001b[0;32m/Users/Leslie/anaconda3/lib/python3.5/site-packages/xgboost-0.6-py3.5.egg/xgboost/training.py\u001b[0m in \u001b[0;36mtrain\u001b[0;34m(params, dtrain, num_boost_round, evals, obj, feval, maximize, early_stopping_rounds, evals_result, verbose_eval, xgb_model, callbacks, learning_rates)\u001b[0m\n\u001b[1;32m    202\u001b[0m                            \u001b[0mevals\u001b[0m\u001b[0;34m=\u001b[0m\u001b[0mevals\u001b[0m\u001b[0;34m,\u001b[0m\u001b[0;34m\u001b[0m\u001b[0m\n\u001b[1;32m    203\u001b[0m                            \u001b[0mobj\u001b[0m\u001b[0;34m=\u001b[0m\u001b[0mobj\u001b[0m\u001b[0;34m,\u001b[0m \u001b[0mfeval\u001b[0m\u001b[0;34m=\u001b[0m\u001b[0mfeval\u001b[0m\u001b[0;34m,\u001b[0m\u001b[0;34m\u001b[0m\u001b[0m\n\u001b[0;32m--> 204\u001b[0;31m                            xgb_model=xgb_model, callbacks=callbacks)\n\u001b[0m\u001b[1;32m    205\u001b[0m \u001b[0;34m\u001b[0m\u001b[0m\n\u001b[1;32m    206\u001b[0m \u001b[0;34m\u001b[0m\u001b[0m\n",
      "\u001b[0;32m/Users/Leslie/anaconda3/lib/python3.5/site-packages/xgboost-0.6-py3.5.egg/xgboost/training.py\u001b[0m in \u001b[0;36m_train_internal\u001b[0;34m(params, dtrain, num_boost_round, evals, obj, feval, xgb_model, callbacks)\u001b[0m\n\u001b[1;32m     72\u001b[0m         \u001b[0;31m# Skip the first update if it is a recovery step.\u001b[0m\u001b[0;34m\u001b[0m\u001b[0;34m\u001b[0m\u001b[0m\n\u001b[1;32m     73\u001b[0m         \u001b[0;32mif\u001b[0m \u001b[0mversion\u001b[0m \u001b[0;34m%\u001b[0m \u001b[0;36m2\u001b[0m \u001b[0;34m==\u001b[0m \u001b[0;36m0\u001b[0m\u001b[0;34m:\u001b[0m\u001b[0;34m\u001b[0m\u001b[0m\n\u001b[0;32m---> 74\u001b[0;31m             \u001b[0mbst\u001b[0m\u001b[0;34m.\u001b[0m\u001b[0mupdate\u001b[0m\u001b[0;34m(\u001b[0m\u001b[0mdtrain\u001b[0m\u001b[0;34m,\u001b[0m \u001b[0mi\u001b[0m\u001b[0;34m,\u001b[0m \u001b[0mobj\u001b[0m\u001b[0;34m)\u001b[0m\u001b[0;34m\u001b[0m\u001b[0m\n\u001b[0m\u001b[1;32m     75\u001b[0m             \u001b[0mbst\u001b[0m\u001b[0;34m.\u001b[0m\u001b[0msave_rabit_checkpoint\u001b[0m\u001b[0;34m(\u001b[0m\u001b[0;34m)\u001b[0m\u001b[0;34m\u001b[0m\u001b[0m\n\u001b[1;32m     76\u001b[0m             \u001b[0mversion\u001b[0m \u001b[0;34m+=\u001b[0m \u001b[0;36m1\u001b[0m\u001b[0;34m\u001b[0m\u001b[0m\n",
      "\u001b[0;32m/Users/Leslie/anaconda3/lib/python3.5/site-packages/xgboost-0.6-py3.5.egg/xgboost/core.py\u001b[0m in \u001b[0;36mupdate\u001b[0;34m(self, dtrain, iteration, fobj)\u001b[0m\n\u001b[1;32m    817\u001b[0m \u001b[0;34m\u001b[0m\u001b[0m\n\u001b[1;32m    818\u001b[0m         \u001b[0;32mif\u001b[0m \u001b[0mfobj\u001b[0m \u001b[0;32mis\u001b[0m \u001b[0;32mNone\u001b[0m\u001b[0;34m:\u001b[0m\u001b[0;34m\u001b[0m\u001b[0m\n\u001b[0;32m--> 819\u001b[0;31m             \u001b[0m_check_call\u001b[0m\u001b[0;34m(\u001b[0m\u001b[0m_LIB\u001b[0m\u001b[0;34m.\u001b[0m\u001b[0mXGBoosterUpdateOneIter\u001b[0m\u001b[0;34m(\u001b[0m\u001b[0mself\u001b[0m\u001b[0;34m.\u001b[0m\u001b[0mhandle\u001b[0m\u001b[0;34m,\u001b[0m \u001b[0miteration\u001b[0m\u001b[0;34m,\u001b[0m \u001b[0mdtrain\u001b[0m\u001b[0;34m.\u001b[0m\u001b[0mhandle\u001b[0m\u001b[0;34m)\u001b[0m\u001b[0;34m)\u001b[0m\u001b[0;34m\u001b[0m\u001b[0m\n\u001b[0m\u001b[1;32m    820\u001b[0m         \u001b[0;32melse\u001b[0m\u001b[0;34m:\u001b[0m\u001b[0;34m\u001b[0m\u001b[0m\n\u001b[1;32m    821\u001b[0m             \u001b[0mpred\u001b[0m \u001b[0;34m=\u001b[0m \u001b[0mself\u001b[0m\u001b[0;34m.\u001b[0m\u001b[0mpredict\u001b[0m\u001b[0;34m(\u001b[0m\u001b[0mdtrain\u001b[0m\u001b[0;34m)\u001b[0m\u001b[0;34m\u001b[0m\u001b[0m\n",
      "\u001b[0;31mKeyboardInterrupt\u001b[0m: "
     ]
    }
   ],
   "source": [
    "count = 0 \n",
    "trials = Trials()\n",
    "best = fmin(f, space, algo=tpe.suggest, max_evals=50, trials=trials)"
   ]
  },
  {
   "cell_type": "code",
   "execution_count": null,
   "metadata": {
    "collapsed": true
   },
   "outputs": [],
   "source": []
  },
  {
   "cell_type": "code",
   "execution_count": 30,
   "metadata": {
    "collapsed": false
   },
   "outputs": [
    {
     "data": {
      "text/plain": [
       "XGBRegressor(base_score=0.5, colsample_bylevel=1, colsample_bytree=1, gamma=0,\n",
       "       learning_rate=0.0416198137601932, max_delta_step=0, max_depth=6,\n",
       "       min_child_weight=58, missing=None, n_estimators=173, nthread=-1,\n",
       "       objective='reg:linear', reg_alpha=0, reg_lambda=1,\n",
       "       scale_pos_weight=1, seed=0, silent=True,\n",
       "       subsample=0.3077468004867197)"
      ]
     },
     "execution_count": 30,
     "metadata": {},
     "output_type": "execute_result"
    }
   ],
   "source": [
    "params = {'n_estimators': 173, 'learning_rate': 0.0416198137601932, \n",
    "          'subsample': 0.3077468004867197, \n",
    "          'max_depth': 6, 'min_child_weight': 58,}\n",
    "reg = xgb.XGBRegressor()\n",
    "reg.set_params(**params)"
   ]
  },
  {
   "cell_type": "code",
   "execution_count": 31,
   "metadata": {
    "collapsed": false
   },
   "outputs": [
    {
     "data": {
      "text/plain": [
       "XGBRegressor(base_score=0.5, colsample_bylevel=1, colsample_bytree=1, gamma=0,\n",
       "       learning_rate=0.0416198137601932, max_delta_step=0, max_depth=6,\n",
       "       min_child_weight=58, missing=None, n_estimators=173, nthread=-1,\n",
       "       objective='reg:linear', reg_alpha=0, reg_lambda=1,\n",
       "       scale_pos_weight=1, seed=0, silent=True,\n",
       "       subsample=0.3077468004867197)"
      ]
     },
     "execution_count": 31,
     "metadata": {},
     "output_type": "execute_result"
    }
   ],
   "source": [
    "reg.fit(x_train, y_train)"
   ]
  },
  {
   "cell_type": "code",
   "execution_count": null,
   "metadata": {
    "collapsed": true
   },
   "outputs": [],
   "source": []
  },
  {
   "cell_type": "code",
   "execution_count": 32,
   "metadata": {
    "collapsed": false
   },
   "outputs": [
    {
     "name": "stderr",
     "output_type": "stream",
     "text": [
      "/Users/Leslie/anaconda3/lib/python3.5/site-packages/IPython/kernel/__main__.py:8: SettingWithCopyWarning: \n",
      "A value is trying to be set on a copy of a slice from a DataFrame.\n",
      "Try using .loc[row_indexer,col_indexer] = value instead\n",
      "\n",
      "See the caveats in the documentation: http://pandas.pydata.org/pandas-docs/stable/indexing.html#indexing-view-versus-copy\n"
     ]
    }
   ],
   "source": [
    "sample = pd.read_csv('sample_submission.csv')\n",
    "sample['parcelid'] = sample['ParcelId']\n",
    "df_test = sample.merge(prop, on='parcelid', how='left')\n",
    "\n",
    "x_test = df_test[train_columns]\n",
    "\n",
    "for c in x_test.dtypes[x_test.dtypes == object].index.values:\n",
    "    x_test[c] = (x_test[c] == True)\n",
    "# x_test = x_test.values.astype(np.float32, copy=False)"
   ]
  },
  {
   "cell_type": "code",
   "execution_count": 33,
   "metadata": {
    "collapsed": false
   },
   "outputs": [],
   "source": [
    "p_test = reg.predict(x_test)"
   ]
  },
  {
   "cell_type": "code",
   "execution_count": 34,
   "metadata": {
    "collapsed": true
   },
   "outputs": [],
   "source": [
    "p_test = 0.97*p_test + 0.03*0.011\n",
    "sub = pd.read_csv('sample_submission.csv')\n",
    "for c in sub.columns[sub.columns != 'ParcelId']:\n",
    "    sub[c] = p_test\n",
    "\n",
    "sub.to_csv('result.csv', index=False, float_format='%.8f')"
   ]
  },
  {
   "cell_type": "code",
   "execution_count": null,
   "metadata": {
    "collapsed": true
   },
   "outputs": [],
   "source": []
  },
  {
   "cell_type": "markdown",
   "metadata": {
    "collapsed": true
   },
   "source": [
    "## LightGBM"
   ]
  },
  {
   "cell_type": "code",
   "execution_count": 1,
   "metadata": {
    "collapsed": false
   },
   "outputs": [],
   "source": [
    "import lightgbm as lgb"
   ]
  },
  {
   "cell_type": "code",
   "execution_count": 5,
   "metadata": {
    "collapsed": true
   },
   "outputs": [],
   "source": [
    "x_train, y_train, x_valid, y_valid = x_train[:split], y_train[:split], x_train[split:], y_train[split:]\n",
    "x_train = x_train.values.astype(np.float32, copy=False)\n",
    "x_valid = x_valid.values.astype(np.float32, copy=False)\n",
    "\n",
    "d_train = lgb.Dataset(x_train, label=y_train)\n",
    "d_valid = lgb.Dataset(x_valid, label=y_valid)"
   ]
  },
  {
   "cell_type": "code",
   "execution_count": 6,
   "metadata": {
    "collapsed": true
   },
   "outputs": [],
   "source": [
    "params = {}\n",
    "params['max_bin'] = 10\n",
    "params['learning_rate'] = 0.0021 # shrinkage_rate\n",
    "params['boosting_type'] = 'gbdt'\n",
    "params['objective'] = 'regression'\n",
    "params['metric'] = 'l2'          # or 'mae'\n",
    "params['sub_feature'] = 0.5      # feature_fraction \n",
    "params['bagging_fraction'] = 0.85 # sub_row\n",
    "params['bagging_freq'] = 40\n",
    "params['num_leaves'] = 512        # num_leaf\n",
    "params['min_data'] = 500         # min_data_in_leaf\n",
    "params['min_hessian'] = 0.05     # min_sum_hessian_in_leaf"
   ]
  },
  {
   "cell_type": "code",
   "execution_count": 7,
   "metadata": {
    "collapsed": false
   },
   "outputs": [
    {
     "name": "stdout",
     "output_type": "stream",
     "text": [
      "[1]\tvalid_0's l2: 0.0268957\n",
      "[2]\tvalid_0's l2: 0.0268946\n",
      "[3]\tvalid_0's l2: 0.0268944\n",
      "[4]\tvalid_0's l2: 0.0268935\n",
      "[5]\tvalid_0's l2: 0.0268928\n",
      "[6]\tvalid_0's l2: 0.0268919\n",
      "[7]\tvalid_0's l2: 0.0268907\n",
      "[8]\tvalid_0's l2: 0.0268892\n",
      "[9]\tvalid_0's l2: 0.0268884\n",
      "[10]\tvalid_0's l2: 0.0268874\n",
      "[11]\tvalid_0's l2: 0.026887\n",
      "[12]\tvalid_0's l2: 0.0268863\n",
      "[13]\tvalid_0's l2: 0.026886\n",
      "[14]\tvalid_0's l2: 0.0268854\n",
      "[15]\tvalid_0's l2: 0.0268853\n",
      "[16]\tvalid_0's l2: 0.0268852\n",
      "[17]\tvalid_0's l2: 0.0268838\n",
      "[18]\tvalid_0's l2: 0.0268834\n",
      "[19]\tvalid_0's l2: 0.0268835\n",
      "[20]\tvalid_0's l2: 0.0268829\n",
      "[21]\tvalid_0's l2: 0.026882\n",
      "[22]\tvalid_0's l2: 0.0268812\n",
      "[23]\tvalid_0's l2: 0.0268807\n",
      "[24]\tvalid_0's l2: 0.0268805\n",
      "[25]\tvalid_0's l2: 0.0268794\n",
      "[26]\tvalid_0's l2: 0.026879\n",
      "[27]\tvalid_0's l2: 0.026878\n",
      "[28]\tvalid_0's l2: 0.0268768\n",
      "[29]\tvalid_0's l2: 0.0268764\n",
      "[30]\tvalid_0's l2: 0.0268758\n",
      "[31]\tvalid_0's l2: 0.0268755\n",
      "[32]\tvalid_0's l2: 0.0268748\n",
      "[33]\tvalid_0's l2: 0.0268738\n",
      "[34]\tvalid_0's l2: 0.0268723\n",
      "[35]\tvalid_0's l2: 0.0268714\n",
      "[36]\tvalid_0's l2: 0.0268704\n",
      "[37]\tvalid_0's l2: 0.0268698\n",
      "[38]\tvalid_0's l2: 0.026869\n",
      "[39]\tvalid_0's l2: 0.0268677\n",
      "[40]\tvalid_0's l2: 0.0268672\n",
      "[41]\tvalid_0's l2: 0.0268669\n",
      "[42]\tvalid_0's l2: 0.0268658\n",
      "[43]\tvalid_0's l2: 0.0268655\n",
      "[44]\tvalid_0's l2: 0.0268651\n",
      "[45]\tvalid_0's l2: 0.026864\n",
      "[46]\tvalid_0's l2: 0.0268635\n",
      "[47]\tvalid_0's l2: 0.026863\n",
      "[48]\tvalid_0's l2: 0.0268625\n",
      "[49]\tvalid_0's l2: 0.0268613\n",
      "[50]\tvalid_0's l2: 0.0268609\n",
      "[51]\tvalid_0's l2: 0.0268605\n",
      "[52]\tvalid_0's l2: 0.0268594\n",
      "[53]\tvalid_0's l2: 0.0268584\n",
      "[54]\tvalid_0's l2: 0.0268582\n",
      "[55]\tvalid_0's l2: 0.026858\n",
      "[56]\tvalid_0's l2: 0.0268582\n",
      "[57]\tvalid_0's l2: 0.0268579\n",
      "[58]\tvalid_0's l2: 0.0268565\n",
      "[59]\tvalid_0's l2: 0.0268564\n",
      "[60]\tvalid_0's l2: 0.0268555\n",
      "[61]\tvalid_0's l2: 0.0268547\n",
      "[62]\tvalid_0's l2: 0.0268543\n",
      "[63]\tvalid_0's l2: 0.0268539\n",
      "[64]\tvalid_0's l2: 0.0268533\n",
      "[65]\tvalid_0's l2: 0.0268526\n",
      "[66]\tvalid_0's l2: 0.026852\n",
      "[67]\tvalid_0's l2: 0.0268507\n",
      "[68]\tvalid_0's l2: 0.0268499\n",
      "[69]\tvalid_0's l2: 0.0268495\n",
      "[70]\tvalid_0's l2: 0.0268489\n",
      "[71]\tvalid_0's l2: 0.0268488\n",
      "[72]\tvalid_0's l2: 0.0268482\n",
      "[73]\tvalid_0's l2: 0.0268472\n",
      "[74]\tvalid_0's l2: 0.0268462\n",
      "[75]\tvalid_0's l2: 0.0268455\n",
      "[76]\tvalid_0's l2: 0.0268448\n",
      "[77]\tvalid_0's l2: 0.0268438\n",
      "[78]\tvalid_0's l2: 0.0268425\n",
      "[79]\tvalid_0's l2: 0.0268424\n",
      "[80]\tvalid_0's l2: 0.0268425\n",
      "[81]\tvalid_0's l2: 0.0268419\n",
      "[82]\tvalid_0's l2: 0.0268415\n",
      "[83]\tvalid_0's l2: 0.0268406\n",
      "[84]\tvalid_0's l2: 0.0268403\n",
      "[85]\tvalid_0's l2: 0.0268393\n",
      "[86]\tvalid_0's l2: 0.026839\n",
      "[87]\tvalid_0's l2: 0.0268384\n",
      "[88]\tvalid_0's l2: 0.0268377\n",
      "[89]\tvalid_0's l2: 0.0268365\n",
      "[90]\tvalid_0's l2: 0.0268356\n",
      "[91]\tvalid_0's l2: 0.026835\n",
      "[92]\tvalid_0's l2: 0.0268343\n",
      "[93]\tvalid_0's l2: 0.0268343\n",
      "[94]\tvalid_0's l2: 0.0268332\n",
      "[95]\tvalid_0's l2: 0.0268326\n",
      "[96]\tvalid_0's l2: 0.0268321\n",
      "[97]\tvalid_0's l2: 0.0268316\n",
      "[98]\tvalid_0's l2: 0.0268313\n",
      "[99]\tvalid_0's l2: 0.0268306\n",
      "[100]\tvalid_0's l2: 0.0268304\n",
      "[101]\tvalid_0's l2: 0.0268302\n",
      "[102]\tvalid_0's l2: 0.0268295\n",
      "[103]\tvalid_0's l2: 0.0268289\n",
      "[104]\tvalid_0's l2: 0.0268285\n",
      "[105]\tvalid_0's l2: 0.026828\n",
      "[106]\tvalid_0's l2: 0.0268274\n",
      "[107]\tvalid_0's l2: 0.0268265\n",
      "[108]\tvalid_0's l2: 0.0268254\n",
      "[109]\tvalid_0's l2: 0.0268247\n",
      "[110]\tvalid_0's l2: 0.0268239\n",
      "[111]\tvalid_0's l2: 0.0268225\n",
      "[112]\tvalid_0's l2: 0.0268216\n",
      "[113]\tvalid_0's l2: 0.026821\n",
      "[114]\tvalid_0's l2: 0.026821\n",
      "[115]\tvalid_0's l2: 0.0268204\n",
      "[116]\tvalid_0's l2: 0.0268196\n",
      "[117]\tvalid_0's l2: 0.0268189\n",
      "[118]\tvalid_0's l2: 0.0268177\n",
      "[119]\tvalid_0's l2: 0.0268173\n",
      "[120]\tvalid_0's l2: 0.0268162\n",
      "[121]\tvalid_0's l2: 0.0268158\n",
      "[122]\tvalid_0's l2: 0.0268149\n",
      "[123]\tvalid_0's l2: 0.0268146\n",
      "[124]\tvalid_0's l2: 0.0268136\n",
      "[125]\tvalid_0's l2: 0.0268134\n",
      "[126]\tvalid_0's l2: 0.026812\n",
      "[127]\tvalid_0's l2: 0.0268114\n",
      "[128]\tvalid_0's l2: 0.026811\n",
      "[129]\tvalid_0's l2: 0.0268109\n",
      "[130]\tvalid_0's l2: 0.0268104\n",
      "[131]\tvalid_0's l2: 0.0268095\n",
      "[132]\tvalid_0's l2: 0.0268087\n",
      "[133]\tvalid_0's l2: 0.0268086\n",
      "[134]\tvalid_0's l2: 0.0268079\n",
      "[135]\tvalid_0's l2: 0.026808\n",
      "[136]\tvalid_0's l2: 0.0268076\n",
      "[137]\tvalid_0's l2: 0.0268076\n",
      "[138]\tvalid_0's l2: 0.0268068\n",
      "[139]\tvalid_0's l2: 0.0268064\n",
      "[140]\tvalid_0's l2: 0.0268057\n",
      "[141]\tvalid_0's l2: 0.0268053\n",
      "[142]\tvalid_0's l2: 0.0268053\n",
      "[143]\tvalid_0's l2: 0.0268044\n",
      "[144]\tvalid_0's l2: 0.0268034\n",
      "[145]\tvalid_0's l2: 0.0268038\n",
      "[146]\tvalid_0's l2: 0.0268028\n",
      "[147]\tvalid_0's l2: 0.0268029\n",
      "[148]\tvalid_0's l2: 0.0268019\n",
      "[149]\tvalid_0's l2: 0.0268018\n",
      "[150]\tvalid_0's l2: 0.026801\n",
      "[151]\tvalid_0's l2: 0.0268003\n",
      "[152]\tvalid_0's l2: 0.0267996\n",
      "[153]\tvalid_0's l2: 0.0267992\n",
      "[154]\tvalid_0's l2: 0.0267982\n",
      "[155]\tvalid_0's l2: 0.0267976\n",
      "[156]\tvalid_0's l2: 0.0267968\n",
      "[157]\tvalid_0's l2: 0.0267956\n",
      "[158]\tvalid_0's l2: 0.026795\n",
      "[159]\tvalid_0's l2: 0.0267947\n",
      "[160]\tvalid_0's l2: 0.0267945\n",
      "[161]\tvalid_0's l2: 0.0267938\n",
      "[162]\tvalid_0's l2: 0.0267937\n",
      "[163]\tvalid_0's l2: 0.0267932\n",
      "[164]\tvalid_0's l2: 0.0267922\n",
      "[165]\tvalid_0's l2: 0.0267913\n",
      "[166]\tvalid_0's l2: 0.0267908\n",
      "[167]\tvalid_0's l2: 0.02679\n",
      "[168]\tvalid_0's l2: 0.026789\n",
      "[169]\tvalid_0's l2: 0.026789\n",
      "[170]\tvalid_0's l2: 0.0267883\n",
      "[171]\tvalid_0's l2: 0.026787\n",
      "[172]\tvalid_0's l2: 0.0267864\n",
      "[173]\tvalid_0's l2: 0.026786\n",
      "[174]\tvalid_0's l2: 0.0267851\n",
      "[175]\tvalid_0's l2: 0.0267847\n",
      "[176]\tvalid_0's l2: 0.026784\n",
      "[177]\tvalid_0's l2: 0.0267832\n",
      "[178]\tvalid_0's l2: 0.0267827\n",
      "[179]\tvalid_0's l2: 0.0267818\n",
      "[180]\tvalid_0's l2: 0.0267814\n",
      "[181]\tvalid_0's l2: 0.0267815\n",
      "[182]\tvalid_0's l2: 0.0267811\n",
      "[183]\tvalid_0's l2: 0.0267807\n",
      "[184]\tvalid_0's l2: 0.0267807\n",
      "[185]\tvalid_0's l2: 0.0267802\n",
      "[186]\tvalid_0's l2: 0.02678\n",
      "[187]\tvalid_0's l2: 0.0267793\n",
      "[188]\tvalid_0's l2: 0.0267793\n",
      "[189]\tvalid_0's l2: 0.0267793\n",
      "[190]\tvalid_0's l2: 0.0267789\n",
      "[191]\tvalid_0's l2: 0.0267789\n",
      "[192]\tvalid_0's l2: 0.0267784\n",
      "[193]\tvalid_0's l2: 0.0267774\n",
      "[194]\tvalid_0's l2: 0.0267769\n",
      "[195]\tvalid_0's l2: 0.0267767\n",
      "[196]\tvalid_0's l2: 0.026776\n",
      "[197]\tvalid_0's l2: 0.026776\n",
      "[198]\tvalid_0's l2: 0.0267759\n",
      "[199]\tvalid_0's l2: 0.0267756\n",
      "[200]\tvalid_0's l2: 0.0267753\n",
      "[201]\tvalid_0's l2: 0.0267743\n",
      "[202]\tvalid_0's l2: 0.0267734\n",
      "[203]\tvalid_0's l2: 0.0267724\n",
      "[204]\tvalid_0's l2: 0.0267714\n",
      "[205]\tvalid_0's l2: 0.0267709\n",
      "[206]\tvalid_0's l2: 0.0267707\n",
      "[207]\tvalid_0's l2: 0.02677\n",
      "[208]\tvalid_0's l2: 0.026769\n",
      "[209]\tvalid_0's l2: 0.0267687\n",
      "[210]\tvalid_0's l2: 0.0267678\n",
      "[211]\tvalid_0's l2: 0.0267674\n",
      "[212]\tvalid_0's l2: 0.0267662\n",
      "[213]\tvalid_0's l2: 0.0267658\n",
      "[214]\tvalid_0's l2: 0.0267655\n",
      "[215]\tvalid_0's l2: 0.0267647\n",
      "[216]\tvalid_0's l2: 0.0267648\n",
      "[217]\tvalid_0's l2: 0.026764\n",
      "[218]\tvalid_0's l2: 0.0267635\n",
      "[219]\tvalid_0's l2: 0.0267631\n",
      "[220]\tvalid_0's l2: 0.0267625\n",
      "[221]\tvalid_0's l2: 0.0267618\n",
      "[222]\tvalid_0's l2: 0.0267612\n",
      "[223]\tvalid_0's l2: 0.0267601\n",
      "[224]\tvalid_0's l2: 0.0267593\n",
      "[225]\tvalid_0's l2: 0.0267591\n",
      "[226]\tvalid_0's l2: 0.0267581\n",
      "[227]\tvalid_0's l2: 0.0267577\n",
      "[228]\tvalid_0's l2: 0.0267573\n",
      "[229]\tvalid_0's l2: 0.0267561\n",
      "[230]\tvalid_0's l2: 0.0267554\n",
      "[231]\tvalid_0's l2: 0.0267552\n",
      "[232]\tvalid_0's l2: 0.0267551\n",
      "[233]\tvalid_0's l2: 0.0267544\n",
      "[234]\tvalid_0's l2: 0.0267539\n",
      "[235]\tvalid_0's l2: 0.0267535\n",
      "[236]\tvalid_0's l2: 0.0267525\n",
      "[237]\tvalid_0's l2: 0.026752\n",
      "[238]\tvalid_0's l2: 0.0267511\n",
      "[239]\tvalid_0's l2: 0.0267503\n",
      "[240]\tvalid_0's l2: 0.0267502\n",
      "[241]\tvalid_0's l2: 0.0267498\n",
      "[242]\tvalid_0's l2: 0.026749\n",
      "[243]\tvalid_0's l2: 0.0267485\n",
      "[244]\tvalid_0's l2: 0.0267485\n",
      "[245]\tvalid_0's l2: 0.0267478\n",
      "[246]\tvalid_0's l2: 0.0267475\n",
      "[247]\tvalid_0's l2: 0.0267473\n",
      "[248]\tvalid_0's l2: 0.0267461\n",
      "[249]\tvalid_0's l2: 0.0267448\n",
      "[250]\tvalid_0's l2: 0.0267447\n",
      "[251]\tvalid_0's l2: 0.0267444\n",
      "[252]\tvalid_0's l2: 0.0267439\n",
      "[253]\tvalid_0's l2: 0.0267434\n",
      "[254]\tvalid_0's l2: 0.0267433\n",
      "[255]\tvalid_0's l2: 0.0267429\n",
      "[256]\tvalid_0's l2: 0.026742\n",
      "[257]\tvalid_0's l2: 0.0267417\n",
      "[258]\tvalid_0's l2: 0.026741\n",
      "[259]\tvalid_0's l2: 0.02674\n",
      "[260]\tvalid_0's l2: 0.0267397\n",
      "[261]\tvalid_0's l2: 0.0267386\n",
      "[262]\tvalid_0's l2: 0.0267389\n",
      "[263]\tvalid_0's l2: 0.0267381\n",
      "[264]\tvalid_0's l2: 0.0267372\n",
      "[265]\tvalid_0's l2: 0.0267371\n",
      "[266]\tvalid_0's l2: 0.026737\n",
      "[267]\tvalid_0's l2: 0.0267369\n",
      "[268]\tvalid_0's l2: 0.0267364\n",
      "[269]\tvalid_0's l2: 0.0267362\n",
      "[270]\tvalid_0's l2: 0.0267355\n",
      "[271]\tvalid_0's l2: 0.0267347\n",
      "[272]\tvalid_0's l2: 0.0267333\n",
      "[273]\tvalid_0's l2: 0.0267328\n",
      "[274]\tvalid_0's l2: 0.0267323\n",
      "[275]\tvalid_0's l2: 0.0267319\n",
      "[276]\tvalid_0's l2: 0.0267316\n",
      "[277]\tvalid_0's l2: 0.0267311\n",
      "[278]\tvalid_0's l2: 0.0267307\n",
      "[279]\tvalid_0's l2: 0.02673\n",
      "[280]\tvalid_0's l2: 0.0267301\n",
      "[281]\tvalid_0's l2: 0.0267301\n",
      "[282]\tvalid_0's l2: 0.02673\n",
      "[283]\tvalid_0's l2: 0.0267291\n",
      "[284]\tvalid_0's l2: 0.0267292\n",
      "[285]\tvalid_0's l2: 0.0267289\n",
      "[286]\tvalid_0's l2: 0.0267291\n",
      "[287]\tvalid_0's l2: 0.0267291\n",
      "[288]\tvalid_0's l2: 0.0267286\n",
      "[289]\tvalid_0's l2: 0.026728\n",
      "[290]\tvalid_0's l2: 0.0267275\n",
      "[291]\tvalid_0's l2: 0.0267268\n",
      "[292]\tvalid_0's l2: 0.0267263\n",
      "[293]\tvalid_0's l2: 0.0267262\n",
      "[294]\tvalid_0's l2: 0.0267268\n",
      "[295]\tvalid_0's l2: 0.0267267\n",
      "[296]\tvalid_0's l2: 0.0267264\n",
      "[297]\tvalid_0's l2: 0.0267261\n",
      "[298]\tvalid_0's l2: 0.0267259\n",
      "[299]\tvalid_0's l2: 0.0267257\n",
      "[300]\tvalid_0's l2: 0.0267253\n",
      "[301]\tvalid_0's l2: 0.0267246\n",
      "[302]\tvalid_0's l2: 0.026724\n",
      "[303]\tvalid_0's l2: 0.0267245\n",
      "[304]\tvalid_0's l2: 0.0267243\n",
      "[305]\tvalid_0's l2: 0.0267238\n",
      "[306]\tvalid_0's l2: 0.0267234\n",
      "[307]\tvalid_0's l2: 0.0267229\n",
      "[308]\tvalid_0's l2: 0.0267226\n",
      "[309]\tvalid_0's l2: 0.0267223\n",
      "[310]\tvalid_0's l2: 0.0267212\n",
      "[311]\tvalid_0's l2: 0.0267206\n",
      "[312]\tvalid_0's l2: 0.0267198\n",
      "[313]\tvalid_0's l2: 0.0267194\n",
      "[314]\tvalid_0's l2: 0.0267191\n",
      "[315]\tvalid_0's l2: 0.026719\n",
      "[316]\tvalid_0's l2: 0.026719\n",
      "[317]\tvalid_0's l2: 0.0267188\n",
      "[318]\tvalid_0's l2: 0.0267184\n",
      "[319]\tvalid_0's l2: 0.0267175\n",
      "[320]\tvalid_0's l2: 0.026717\n",
      "[321]\tvalid_0's l2: 0.0267163\n",
      "[322]\tvalid_0's l2: 0.0267161\n",
      "[323]\tvalid_0's l2: 0.0267155\n",
      "[324]\tvalid_0's l2: 0.0267154\n",
      "[325]\tvalid_0's l2: 0.0267148\n",
      "[326]\tvalid_0's l2: 0.0267142\n",
      "[327]\tvalid_0's l2: 0.0267149\n",
      "[328]\tvalid_0's l2: 0.0267145\n",
      "[329]\tvalid_0's l2: 0.0267139\n",
      "[330]\tvalid_0's l2: 0.0267135\n",
      "[331]\tvalid_0's l2: 0.026713\n",
      "[332]\tvalid_0's l2: 0.026713\n",
      "[333]\tvalid_0's l2: 0.0267123\n",
      "[334]\tvalid_0's l2: 0.0267118\n",
      "[335]\tvalid_0's l2: 0.0267113\n",
      "[336]\tvalid_0's l2: 0.0267111\n",
      "[337]\tvalid_0's l2: 0.0267108\n",
      "[338]\tvalid_0's l2: 0.0267103\n",
      "[339]\tvalid_0's l2: 0.0267101\n",
      "[340]\tvalid_0's l2: 0.0267091\n",
      "[341]\tvalid_0's l2: 0.0267084\n",
      "[342]\tvalid_0's l2: 0.026708\n",
      "[343]\tvalid_0's l2: 0.0267074\n",
      "[344]\tvalid_0's l2: 0.026707\n",
      "[345]\tvalid_0's l2: 0.0267066\n",
      "[346]\tvalid_0's l2: 0.026706\n",
      "[347]\tvalid_0's l2: 0.0267059\n",
      "[348]\tvalid_0's l2: 0.0267056\n",
      "[349]\tvalid_0's l2: 0.0267059\n",
      "[350]\tvalid_0's l2: 0.0267056\n",
      "[351]\tvalid_0's l2: 0.026705\n",
      "[352]\tvalid_0's l2: 0.0267041\n",
      "[353]\tvalid_0's l2: 0.0267042\n",
      "[354]\tvalid_0's l2: 0.0267038\n",
      "[355]\tvalid_0's l2: 0.0267032\n",
      "[356]\tvalid_0's l2: 0.0267024\n",
      "[357]\tvalid_0's l2: 0.0267024\n",
      "[358]\tvalid_0's l2: 0.0267019\n",
      "[359]\tvalid_0's l2: 0.0267014\n",
      "[360]\tvalid_0's l2: 0.0267012\n",
      "[361]\tvalid_0's l2: 0.0267006\n",
      "[362]\tvalid_0's l2: 0.0267002\n",
      "[363]\tvalid_0's l2: 0.0266998\n",
      "[364]\tvalid_0's l2: 0.0266994\n",
      "[365]\tvalid_0's l2: 0.0266994\n",
      "[366]\tvalid_0's l2: 0.0266989\n",
      "[367]\tvalid_0's l2: 0.0266986\n",
      "[368]\tvalid_0's l2: 0.0266979\n",
      "[369]\tvalid_0's l2: 0.0266977\n",
      "[370]\tvalid_0's l2: 0.0266975\n",
      "[371]\tvalid_0's l2: 0.0266976\n",
      "[372]\tvalid_0's l2: 0.0266978\n",
      "[373]\tvalid_0's l2: 0.0266973\n",
      "[374]\tvalid_0's l2: 0.0266974\n",
      "[375]\tvalid_0's l2: 0.0266966\n",
      "[376]\tvalid_0's l2: 0.0266958\n",
      "[377]\tvalid_0's l2: 0.0266951\n",
      "[378]\tvalid_0's l2: 0.026695\n",
      "[379]\tvalid_0's l2: 0.0266946\n",
      "[380]\tvalid_0's l2: 0.0266945\n",
      "[381]\tvalid_0's l2: 0.0266939\n",
      "[382]\tvalid_0's l2: 0.0266932\n",
      "[383]\tvalid_0's l2: 0.026693\n",
      "[384]\tvalid_0's l2: 0.0266925\n",
      "[385]\tvalid_0's l2: 0.0266918\n",
      "[386]\tvalid_0's l2: 0.0266909\n",
      "[387]\tvalid_0's l2: 0.0266905\n",
      "[388]\tvalid_0's l2: 0.0266904\n",
      "[389]\tvalid_0's l2: 0.0266903\n",
      "[390]\tvalid_0's l2: 0.0266901\n",
      "[391]\tvalid_0's l2: 0.0266898\n",
      "[392]\tvalid_0's l2: 0.0266889\n",
      "[393]\tvalid_0's l2: 0.0266886\n",
      "[394]\tvalid_0's l2: 0.026688\n",
      "[395]\tvalid_0's l2: 0.0266877\n",
      "[396]\tvalid_0's l2: 0.0266878\n",
      "[397]\tvalid_0's l2: 0.026687\n",
      "[398]\tvalid_0's l2: 0.026687\n",
      "[399]\tvalid_0's l2: 0.0266866\n",
      "[400]\tvalid_0's l2: 0.0266866\n",
      "[401]\tvalid_0's l2: 0.0266859\n",
      "[402]\tvalid_0's l2: 0.0266861\n",
      "[403]\tvalid_0's l2: 0.0266857\n",
      "[404]\tvalid_0's l2: 0.0266857\n",
      "[405]\tvalid_0's l2: 0.0266851\n",
      "[406]\tvalid_0's l2: 0.026685\n",
      "[407]\tvalid_0's l2: 0.0266848\n",
      "[408]\tvalid_0's l2: 0.0266844\n",
      "[409]\tvalid_0's l2: 0.026684\n",
      "[410]\tvalid_0's l2: 0.0266834\n",
      "[411]\tvalid_0's l2: 0.0266829\n",
      "[412]\tvalid_0's l2: 0.0266824\n",
      "[413]\tvalid_0's l2: 0.026682\n",
      "[414]\tvalid_0's l2: 0.0266815\n",
      "[415]\tvalid_0's l2: 0.0266811\n",
      "[416]\tvalid_0's l2: 0.0266809\n",
      "[417]\tvalid_0's l2: 0.0266799\n",
      "[418]\tvalid_0's l2: 0.0266792\n",
      "[419]\tvalid_0's l2: 0.0266785\n",
      "[420]\tvalid_0's l2: 0.0266778\n",
      "[421]\tvalid_0's l2: 0.026677\n",
      "[422]\tvalid_0's l2: 0.0266771\n",
      "[423]\tvalid_0's l2: 0.0266763\n",
      "[424]\tvalid_0's l2: 0.0266763\n",
      "[425]\tvalid_0's l2: 0.0266768\n",
      "[426]\tvalid_0's l2: 0.0266763\n",
      "[427]\tvalid_0's l2: 0.0266759\n",
      "[428]\tvalid_0's l2: 0.0266764\n",
      "[429]\tvalid_0's l2: 0.0266758\n",
      "[430]\tvalid_0's l2: 0.0266745\n",
      "[431]\tvalid_0's l2: 0.0266736\n",
      "[432]\tvalid_0's l2: 0.026673\n",
      "[433]\tvalid_0's l2: 0.0266724\n",
      "[434]\tvalid_0's l2: 0.0266725\n",
      "[435]\tvalid_0's l2: 0.0266725\n",
      "[436]\tvalid_0's l2: 0.0266722\n",
      "[437]\tvalid_0's l2: 0.0266719\n",
      "[438]\tvalid_0's l2: 0.0266713\n",
      "[439]\tvalid_0's l2: 0.0266706\n",
      "[440]\tvalid_0's l2: 0.0266706\n",
      "[441]\tvalid_0's l2: 0.0266704\n",
      "[442]\tvalid_0's l2: 0.0266703\n",
      "[443]\tvalid_0's l2: 0.0266698\n",
      "[444]\tvalid_0's l2: 0.0266701\n",
      "[445]\tvalid_0's l2: 0.0266698\n",
      "[446]\tvalid_0's l2: 0.0266696\n",
      "[447]\tvalid_0's l2: 0.0266699\n",
      "[448]\tvalid_0's l2: 0.0266693\n",
      "[449]\tvalid_0's l2: 0.0266691\n",
      "[450]\tvalid_0's l2: 0.0266687\n",
      "[451]\tvalid_0's l2: 0.0266683\n",
      "[452]\tvalid_0's l2: 0.026668\n",
      "[453]\tvalid_0's l2: 0.0266679\n",
      "[454]\tvalid_0's l2: 0.026668\n",
      "[455]\tvalid_0's l2: 0.0266678\n",
      "[456]\tvalid_0's l2: 0.0266681\n",
      "[457]\tvalid_0's l2: 0.0266682\n",
      "[458]\tvalid_0's l2: 0.0266688\n",
      "[459]\tvalid_0's l2: 0.0266678\n",
      "[460]\tvalid_0's l2: 0.0266675\n",
      "[461]\tvalid_0's l2: 0.0266671\n",
      "[462]\tvalid_0's l2: 0.0266671\n",
      "[463]\tvalid_0's l2: 0.0266664\n",
      "[464]\tvalid_0's l2: 0.0266669\n",
      "[465]\tvalid_0's l2: 0.0266664\n",
      "[466]\tvalid_0's l2: 0.0266663\n",
      "[467]\tvalid_0's l2: 0.0266661\n",
      "[468]\tvalid_0's l2: 0.0266661\n",
      "[469]\tvalid_0's l2: 0.0266661\n",
      "[470]\tvalid_0's l2: 0.0266659\n",
      "[471]\tvalid_0's l2: 0.0266653\n",
      "[472]\tvalid_0's l2: 0.0266653\n",
      "[473]\tvalid_0's l2: 0.0266652\n",
      "[474]\tvalid_0's l2: 0.026665\n",
      "[475]\tvalid_0's l2: 0.0266649\n",
      "[476]\tvalid_0's l2: 0.0266649\n",
      "[477]\tvalid_0's l2: 0.0266646\n",
      "[478]\tvalid_0's l2: 0.0266646\n",
      "[479]\tvalid_0's l2: 0.0266645\n",
      "[480]\tvalid_0's l2: 0.0266646\n",
      "[481]\tvalid_0's l2: 0.0266649\n",
      "[482]\tvalid_0's l2: 0.0266649\n",
      "[483]\tvalid_0's l2: 0.0266644\n",
      "[484]\tvalid_0's l2: 0.0266638\n",
      "[485]\tvalid_0's l2: 0.0266628\n",
      "[486]\tvalid_0's l2: 0.0266623\n",
      "[487]\tvalid_0's l2: 0.0266619\n",
      "[488]\tvalid_0's l2: 0.0266618\n",
      "[489]\tvalid_0's l2: 0.0266616\n",
      "[490]\tvalid_0's l2: 0.0266612\n"
     ]
    }
   ],
   "source": [
    "watchlist = [d_valid]\n",
    "clf = lgb.train(params, d_train, 490, watchlist)"
   ]
  },
  {
   "cell_type": "code",
   "execution_count": 8,
   "metadata": {
    "collapsed": false
   },
   "outputs": [
    {
     "name": "stderr",
     "output_type": "stream",
     "text": [
      "/Users/Leslie/anaconda3/lib/python3.5/site-packages/IPython/kernel/__main__.py:8: SettingWithCopyWarning: \n",
      "A value is trying to be set on a copy of a slice from a DataFrame.\n",
      "Try using .loc[row_indexer,col_indexer] = value instead\n",
      "\n",
      "See the caveats in the documentation: http://pandas.pydata.org/pandas-docs/stable/indexing.html#indexing-view-versus-copy\n"
     ]
    }
   ],
   "source": [
    "sample = pd.read_csv('sample_submission.csv')\n",
    "sample['parcelid'] = sample['ParcelId']\n",
    "df_test = sample.merge(prop, on='parcelid', how='left')\n",
    "\n",
    "x_test = df_test[train_columns]\n",
    "\n",
    "for c in x_test.dtypes[x_test.dtypes == object].index.values:\n",
    "    x_test[c] = (x_test[c] == True)"
   ]
  },
  {
   "cell_type": "code",
   "execution_count": 9,
   "metadata": {
    "collapsed": true
   },
   "outputs": [],
   "source": [
    "clf.reset_parameter({\"num_threads\":1})\n",
    "p_test = clf.predict(x_test)"
   ]
  },
  {
   "cell_type": "code",
   "execution_count": 10,
   "metadata": {
    "collapsed": true
   },
   "outputs": [],
   "source": [
    "p_test = 0.97*p_test + 0.03*0.011\n",
    "\n",
    "sub = pd.read_csv('sample_submission.csv')\n",
    "for c in sub.columns[sub.columns != 'ParcelId']:\n",
    "    sub[c] = p_test\n",
    "\n",
    "sub.to_csv('result.csv', index=False, float_format='%.8f')"
   ]
  },
  {
   "cell_type": "code",
   "execution_count": null,
   "metadata": {
    "collapsed": true
   },
   "outputs": [],
   "source": []
  },
  {
   "cell_type": "code",
   "execution_count": 14,
   "metadata": {
    "collapsed": true
   },
   "outputs": [],
   "source": [
    "from sklearn.metrics import mean_absolute_error"
   ]
  },
  {
   "cell_type": "code",
   "execution_count": 11,
   "metadata": {
    "collapsed": true
   },
   "outputs": [],
   "source": [
    "y_valid_pred = clf.predict(x_valid)"
   ]
  },
  {
   "cell_type": "code",
   "execution_count": 29,
   "metadata": {
    "collapsed": true
   },
   "outputs": [],
   "source": [
    "y_art = 0.95*y_valid_pred + 0.05*0.0118"
   ]
  },
  {
   "cell_type": "code",
   "execution_count": 30,
   "metadata": {
    "collapsed": false
   },
   "outputs": [
    {
     "name": "stdout",
     "output_type": "stream",
     "text": [
      "Score: 0.0718193790386\n"
     ]
    }
   ],
   "source": [
    "# 0.0718179\n",
    "print('Score:', mean_absolute_error(y_pred=y_art, y_true=y_valid))"
   ]
  },
  {
   "cell_type": "code",
   "execution_count": null,
   "metadata": {
    "collapsed": true
   },
   "outputs": [],
   "source": []
  }
 ],
 "metadata": {
  "kernelspec": {
   "display_name": "Python 3(Default)",
   "language": "python",
   "name": "python3"
  },
  "language_info": {
   "codemirror_mode": {
    "name": "ipython",
    "version": 3
   },
   "file_extension": ".py",
   "mimetype": "text/x-python",
   "name": "python",
   "nbconvert_exporter": "python",
   "pygments_lexer": "ipython3",
   "version": "3.5.2"
  }
 },
 "nbformat": 4,
 "nbformat_minor": 1
}
