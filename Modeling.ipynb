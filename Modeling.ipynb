{
 "cells": [
  {
   "cell_type": "code",
   "execution_count": 40,
   "metadata": {
    "collapsed": false
   },
   "outputs": [],
   "source": [
    "import numpy as np\n",
    "import pandas as pd\n",
    "import matplotlib.pyplot as plt"
   ]
  },
  {
   "cell_type": "code",
   "execution_count": 11,
   "metadata": {
    "collapsed": false
   },
   "outputs": [
    {
     "name": "stderr",
     "output_type": "stream",
     "text": [
      "/Users/Leslie/anaconda3/lib/python3.5/site-packages/IPython/core/interactiveshell.py:2717: DtypeWarning: Columns (22,47,53) have mixed types. Specify dtype option on import or set low_memory=False.\n",
      "  interactivity=interactivity, compiler=compiler, result=result)\n"
     ]
    }
   ],
   "source": [
    "x_train = pd.read_table('x_train.csv', index_col=0, header=0, sep=',').values\n",
    "x_test = pd.read_table('x_test.csv', index_col=0, header=0, sep=',')"
   ]
  },
  {
   "cell_type": "code",
   "execution_count": 12,
   "metadata": {
    "collapsed": false
   },
   "outputs": [
    {
     "name": "stderr",
     "output_type": "stream",
     "text": [
      "/Users/Leslie/anaconda3/lib/python3.5/site-packages/IPython/core/interactiveshell.py:2717: DtypeWarning: Columns (22,32,34,49,55) have mixed types. Specify dtype option on import or set low_memory=False.\n",
      "  interactivity=interactivity, compiler=compiler, result=result)\n"
     ]
    }
   ],
   "source": [
    "data = pd.read_table('properties_2016.csv', header=0, index_col=None, sep=',')\n",
    "train = pd.read_table('train_2016.csv', sep=',')\n",
    "df_train = train.merge(data, how='left', on='parcelid')\n",
    "y_train = df_train['logerror']"
   ]
  },
  {
   "cell_type": "code",
   "execution_count": null,
   "metadata": {
    "collapsed": true
   },
   "outputs": [],
   "source": []
  },
  {
   "cell_type": "code",
   "execution_count": 14,
   "metadata": {
    "collapsed": true
   },
   "outputs": [],
   "source": [
    "# from hyperopt import fmin, tpe, hp, STATUS_OK, Trials\n",
    "from sklearn.model_selection import cross_val_score\n",
    "from sklearn.metrics import mean_absolute_error\n",
    "from sklearn.metrics import make_scorer"
   ]
  },
  {
   "cell_type": "markdown",
   "metadata": {},
   "source": [
    "## Benchmark Plot"
   ]
  },
  {
   "cell_type": "code",
   "execution_count": 15,
   "metadata": {
    "collapsed": true
   },
   "outputs": [],
   "source": [
    "def benchmark_plot():\n",
    "    result_benchmark = pd.read_csv('results/result_0.0646523.csv')['201610']\n",
    "    plt.close()\n",
    "    plt.plot(range(len(result_benchmark)), \n",
    "             result_benchmark, \n",
    "             '.', color='m', alpha=0.3)\n",
    "    plt.title('Benchmark Plot')\n",
    "    plt.show()\n"
   ]
  },
  {
   "cell_type": "code",
   "execution_count": null,
   "metadata": {
    "collapsed": true
   },
   "outputs": [],
   "source": []
  },
  {
   "cell_type": "markdown",
   "metadata": {
    "collapsed": false
   },
   "source": [
    "scorer_mae = make_scorer(mean_absolute_error, greater_is_better=False)\n",
    "def hyperopt_train_test(params):\n",
    "    t = params['type']\n",
    "    del params['type']\n",
    "    if t == 'xgb':\n",
    "        reg = xgb.XGBRegressor(**params)\n",
    "    else:\n",
    "        return 0, 0\n",
    "    cv_score = cross_val_score(reg, x_train, y_train, scoring=scorer_mae, cv=5)\n",
    "    score_mean = cv_score.mean()\n",
    "    score_std = cv_score.std()\n",
    "    return score_mean, score_std"
   ]
  },
  {
   "cell_type": "markdown",
   "metadata": {
    "collapsed": true
   },
   "source": [
    "space = hp.choice('classifier_type', [\n",
    "    {\n",
    "        'type': 'xgb',\n",
    "        'learning_rate': hp.uniform('learning_rate', 0.02, 0.1),\n",
    "        'min_child_weight': hp.choice('min_child_weight', range(30, 60)),\n",
    "        'max_depth': hp.choice('max_depth', range(5, 10)),\n",
    "        'subsample': hp.uniform('subsample', 0.2, 0.4),\n",
    "        'n_estimators': hp.choice('n_estimators', range(150, 200)),\n",
    "        'colsample_bytree': hp.uniform('colsample_bytree', 0.4, 0.6),\n",
    "        'reg_lambda': hp.uniform('reg_lambda', 1, 2),\n",
    "        'reg_alpha': hp.uniform('reg_alpha', 1, 2)\n",
    "}])"
   ]
  },
  {
   "cell_type": "markdown",
   "metadata": {
    "collapsed": true
   },
   "source": [
    "def f(params):\n",
    "    global best, count\n",
    "    count += 1\n",
    "    result = hyperopt_train_test(params.copy())\n",
    "    acc = result[0]\n",
    "    std = result[1]\n",
    "    print('iters:', count, ', acc:', acc, 'std:', std, '\\nusing', params, '\\n')\n",
    "    return {'loss': -acc, 'status': STATUS_OK}"
   ]
  },
  {
   "cell_type": "markdown",
   "metadata": {
    "collapsed": false,
    "scrolled": true
   },
   "source": [
    "count = 0 \n",
    "trials = Trials()\n",
    "best = fmin(f, space, algo=tpe.suggest, max_evals=50, trials=trials)"
   ]
  },
  {
   "cell_type": "code",
   "execution_count": null,
   "metadata": {
    "collapsed": true
   },
   "outputs": [],
   "source": []
  },
  {
   "cell_type": "markdown",
   "metadata": {},
   "source": [
    "## XGBoost"
   ]
  },
  {
   "cell_type": "code",
   "execution_count": 232,
   "metadata": {
    "collapsed": false
   },
   "outputs": [],
   "source": [
    "scorer_mae = make_scorer(mean_absolute_error)\n",
    "import xgboost as xgb"
   ]
  },
  {
   "cell_type": "code",
   "execution_count": 233,
   "metadata": {
    "collapsed": false
   },
   "outputs": [
    {
     "name": "stdout",
     "output_type": "stream",
     "text": [
      "learning_rate:0.06, Mean:0.06944411, STD:0.00294492\n",
      "learning_rate:0.061, Mean:0.06935982, STD:0.00306369\n",
      "learning_rate:0.062, Mean:0.06942729, STD:0.00298721\n",
      "learning_rate:0.063, Mean:0.06941760, STD:0.00297759\n",
      "learning_rate:0.064, Mean:0.06949333, STD:0.00297354\n"
     ]
    }
   ],
   "source": [
    "for lr in np.linspace(0.06,0.064,5):\n",
    "    reg = xgb.XGBRegressor(learning_rate=lr, n_estimators=100, max_depth=4, nthread=4, seed=1234)\n",
    "    cv_score = cross_val_score(reg, x_train, y_train, scoring=scorer_mae, cv=3)\n",
    "    score_mean = cv_score.mean()\n",
    "    score_std = cv_score.std()\n",
    "    if score_mean < 0.0696:\n",
    "        print('learning_rate:{0}, Mean:{1:.8f}, STD:{2:.8f}'.format(lr, score_mean, score_std))"
   ]
  },
  {
   "cell_type": "code",
   "execution_count": null,
   "metadata": {
    "collapsed": true
   },
   "outputs": [],
   "source": []
  },
  {
   "cell_type": "code",
   "execution_count": 157,
   "metadata": {
    "collapsed": false
   },
   "outputs": [
    {
     "data": {
      "text/plain": [
       "XGBRegressor(base_score=0.5, colsample_bylevel=1, colsample_bytree=1,\n",
       "       gamma=0.0001, learning_rate=0.064, max_delta_step=0, max_depth=4,\n",
       "       min_child_weight=1, missing=None, n_estimators=100, nthread=4,\n",
       "       objective='reg:linear', reg_alpha=0, reg_lambda=1,\n",
       "       scale_pos_weight=1, seed=1234, silent=True, subsample=1)"
      ]
     },
     "execution_count": 157,
     "metadata": {},
     "output_type": "execute_result"
    }
   ],
   "source": [
    "# Score: 0.06943554\n",
    "params = {'n_estimators': 100, \n",
    "          'learning_rate': 0.064, \n",
    "          'max_depth': 4,\n",
    "          'nthread': 4,\n",
    "          'gamma': 0.0001,\n",
    "          'seed': 1234}\n",
    "reg = xgb.XGBRegressor()\n",
    "reg.set_params(**params)"
   ]
  },
  {
   "cell_type": "code",
   "execution_count": 158,
   "metadata": {
    "collapsed": false
   },
   "outputs": [
    {
     "data": {
      "text/plain": [
       "XGBRegressor(base_score=0.5, colsample_bylevel=1, colsample_bytree=1,\n",
       "       gamma=0.0001, learning_rate=0.064, max_delta_step=0, max_depth=4,\n",
       "       min_child_weight=1, missing=None, n_estimators=100, nthread=4,\n",
       "       objective='reg:linear', reg_alpha=0, reg_lambda=1,\n",
       "       scale_pos_weight=1, seed=1234, silent=True, subsample=1)"
      ]
     },
     "execution_count": 158,
     "metadata": {},
     "output_type": "execute_result"
    }
   ],
   "source": [
    "reg.fit(x_train, y_train)"
   ]
  },
  {
   "cell_type": "code",
   "execution_count": null,
   "metadata": {
    "collapsed": true
   },
   "outputs": [],
   "source": []
  },
  {
   "cell_type": "code",
   "execution_count": 159,
   "metadata": {
    "collapsed": false
   },
   "outputs": [
    {
     "name": "stderr",
     "output_type": "stream",
     "text": [
      "/Users/Leslie/anaconda3/lib/python3.5/site-packages/IPython/kernel/__main__.py:8: SettingWithCopyWarning: \n",
      "A value is trying to be set on a copy of a slice from a DataFrame.\n",
      "Try using .loc[row_indexer,col_indexer] = value instead\n",
      "\n",
      "See the caveats in the documentation: http://pandas.pydata.org/pandas-docs/stable/indexing.html#indexing-view-versus-copy\n"
     ]
    }
   ],
   "source": [
    "sample = pd.read_csv('sample_submission.csv')\n",
    "sample['parcelid'] = sample['ParcelId']\n",
    "df_test = sample.merge(prop, on='parcelid', how='left')\n",
    "\n",
    "x_test = df_test[train_columns]\n",
    "\n",
    "for c in x_test.dtypes[x_test.dtypes == object].index.values:\n",
    "    x_test[c] = (x_test[c] == True)\n",
    "# x_test = x_test.values.astype(np.float32, copy=False)"
   ]
  },
  {
   "cell_type": "code",
   "execution_count": 160,
   "metadata": {
    "collapsed": false
   },
   "outputs": [],
   "source": [
    "p_test = reg.predict(x_test)"
   ]
  },
  {
   "cell_type": "code",
   "execution_count": 161,
   "metadata": {
    "collapsed": true
   },
   "outputs": [],
   "source": [
    "# p_test = 0.97*p_test + 0.03*0.011\n",
    "sub = pd.read_csv('sample_submission.csv')\n",
    "for c in sub.columns[sub.columns != 'ParcelId']:\n",
    "    sub[c] = p_test\n",
    "\n",
    "sub.to_csv('result_xgb.csv', index=False, float_format='%.8f')"
   ]
  },
  {
   "cell_type": "code",
   "execution_count": null,
   "metadata": {
    "collapsed": true
   },
   "outputs": [],
   "source": []
  },
  {
   "cell_type": "markdown",
   "metadata": {},
   "source": [
    "## Random Forest"
   ]
  },
  {
   "cell_type": "code",
   "execution_count": 162,
   "metadata": {
    "collapsed": true
   },
   "outputs": [],
   "source": [
    "from sklearn.ensemble import RandomForestRegressor\n",
    "scorer_mae = make_scorer(mean_absolute_error)"
   ]
  },
  {
   "cell_type": "code",
   "execution_count": 188,
   "metadata": {
    "collapsed": true
   },
   "outputs": [],
   "source": [
    "x = pd.concat([x_train, x_test])"
   ]
  },
  {
   "cell_type": "code",
   "execution_count": 189,
   "metadata": {
    "collapsed": false
   },
   "outputs": [],
   "source": [
    "x = x.replace(np.inf, 0)\n",
    "\n",
    "for var in x.columns[x_train.dtypes == 'object']:\n",
    "    x[var] = x[var].fillna(x[var].mode())\n",
    "    \n",
    "for var in x.columns[x.dtypes != 'object']:\n",
    "    x[var] = x[var].fillna(x[var].dropna().mean())"
   ]
  },
  {
   "cell_type": "code",
   "execution_count": 207,
   "metadata": {
    "collapsed": false
   },
   "outputs": [],
   "source": [
    "x_train = x[:90811]\n",
    "x_test = x[90811:]"
   ]
  },
  {
   "cell_type": "code",
   "execution_count": 206,
   "metadata": {
    "collapsed": false,
    "scrolled": false
   },
   "outputs": [
    {
     "name": "stdout",
     "output_type": "stream",
     "text": [
      "n_estimators:250, Mean:0.06961142, STD:0.00302220\n",
      "n_estimators:300, Mean:0.06960884, STD:0.00299001\n",
      "n_estimators:350, Mean:0.06961899, STD:0.00299126\n"
     ]
    }
   ],
   "source": [
    "# n_estimators=300  --> 0.06925492\n",
    "for est in [250,300,350]:\n",
    "    reg = RandomForestRegressor(n_estimators=est, max_depth= 10)\n",
    "    cv_score = cross_val_score(reg, x_train, y_train, scoring=scorer_mae, cv=3)\n",
    "    score_mean = cv_score.mean()\n",
    "    score_std = cv_score.std()\n",
    "#     if score_mean < 0.0696:\n",
    "    print('n_estimators:{0}, Mean:{1:.8f}, STD:{2:.8f}'.format(est, score_mean, score_std))"
   ]
  },
  {
   "cell_type": "code",
   "execution_count": 208,
   "metadata": {
    "collapsed": true
   },
   "outputs": [],
   "source": [
    "# Score: 0.06960884\n",
    "params = {'max_depth': 10,\n",
    "          'n_estimators': 300}"
   ]
  },
  {
   "cell_type": "code",
   "execution_count": 209,
   "metadata": {
    "collapsed": false
   },
   "outputs": [
    {
     "data": {
      "text/plain": [
       "RandomForestRegressor(bootstrap=True, criterion='mse', max_depth=10,\n",
       "           max_features='auto', max_leaf_nodes=None,\n",
       "           min_impurity_split=1e-07, min_samples_leaf=1,\n",
       "           min_samples_split=2, min_weight_fraction_leaf=0.0,\n",
       "           n_estimators=300, n_jobs=1, oob_score=False, random_state=None,\n",
       "           verbose=0, warm_start=False)"
      ]
     },
     "execution_count": 209,
     "metadata": {},
     "output_type": "execute_result"
    }
   ],
   "source": [
    "reg = RandomForestRegressor()\n",
    "reg.set_params(**params)\n",
    "reg.fit(x_train, y_train)"
   ]
  },
  {
   "cell_type": "code",
   "execution_count": 210,
   "metadata": {
    "collapsed": true
   },
   "outputs": [],
   "source": [
    "y_pred = reg.predict(x_test)"
   ]
  },
  {
   "cell_type": "code",
   "execution_count": 211,
   "metadata": {
    "collapsed": true
   },
   "outputs": [],
   "source": [
    "sub = pd.read_csv('sample_submission.csv')\n",
    "for c in sub.columns[sub.columns != 'ParcelId']:\n",
    "    sub[c] = y_pred\n",
    "\n",
    "sub.to_csv('result_rf.csv', index=False, float_format='%.8f')"
   ]
  },
  {
   "cell_type": "code",
   "execution_count": null,
   "metadata": {
    "collapsed": true
   },
   "outputs": [],
   "source": []
  },
  {
   "cell_type": "code",
   "execution_count": null,
   "metadata": {
    "collapsed": true
   },
   "outputs": [],
   "source": []
  },
  {
   "cell_type": "markdown",
   "metadata": {
    "collapsed": true
   },
   "source": [
    "## LightGBM"
   ]
  },
  {
   "cell_type": "code",
   "execution_count": 36,
   "metadata": {
    "collapsed": false
   },
   "outputs": [],
   "source": [
    "import lightgbm as lgb\n",
    "from sklearn.model_selection import train_test_split"
   ]
  },
  {
   "cell_type": "code",
   "execution_count": 37,
   "metadata": {
    "collapsed": false
   },
   "outputs": [],
   "source": [
    "xtrain, xvalid, ytrain, yvalid = train_test_split(x_train, y_train, \n",
    "                                                  test_size=0.3,\n",
    "                                                  random_state=1234)\n",
    "\n",
    "d_train = lgb.Dataset(xtrain, label=ytrain)\n",
    "d_valid = lgb.Dataset(xvalid, label=yvalid)"
   ]
  },
  {
   "cell_type": "code",
   "execution_count": 79,
   "metadata": {
    "collapsed": true
   },
   "outputs": [],
   "source": [
    "params = {}\n",
    "params['max_bin'] = 20\n",
    "params['learning_rate'] = 0.00169889 \n",
    "params['boosting_type'] = 'gbdt'\n",
    "params['objective'] = 'regression'\n",
    "params['metric'] = 'l1'          # or 'mae'\n",
    "params['feature_fraction'] = 0.6\n",
    "params['feature_fraction_seed'] = 1234\n",
    "params['sub_feature'] = 0.6      # feature_fraction \n",
    "params['bagging_freq'] = 50\n",
    "params['bagging_seed'] = 1234\n",
    "params['num_leaves'] = 2**5      \n",
    "params['min_data'] = 400         # min_data_in_leaf\n",
    "params['min_hessian'] = 0.05 \n",
    "\n",
    "# Score:0.06862537\n",
    "# learning_rate: 0.00169889\n",
    "# num_leaves:45\n",
    "# feature_fraction:0.6\n",
    "# sub_feature:0.6\n",
    "# bagging_freq:50\n",
    "# min_data:400"
   ]
  },
  {
   "cell_type": "code",
   "execution_count": 81,
   "metadata": {
    "collapsed": false,
    "scrolled": true
   },
   "outputs": [
    {
     "name": "stdout",
     "output_type": "stream",
     "text": [
      "num_leaves:32, Score:0.06879412\n"
     ]
    }
   ],
   "source": [
    "# num_leaves:45, Score:0.06866008\n",
    "watchlist = [d_valid]\n",
    "for nl in [2**5 ]:\n",
    "    params['num_leaves'] = nl\n",
    "    clf = lgb.train(params, d_train, 1500, watchlist, verbose_eval=False)\n",
    "    yvalid_pred = clf.predict(xvalid)\n",
    "    mae = mean_absolute_error(y_pred=yvalid_pred, y_true=yvalid)\n",
    "    if mae < 0.07:\n",
    "        print('num_leaves:{0}, Score:{1:.8f}'.format(nl, mae))\n"
   ]
  },
  {
   "cell_type": "code",
   "execution_count": 68,
   "metadata": {
    "collapsed": false
   },
   "outputs": [],
   "source": [
    "watchlist = [d_valid]\n",
    "clf = lgb.train(params, d_train, 500, watchlist, verbose_eval=False)"
   ]
  },
  {
   "cell_type": "code",
   "execution_count": 69,
   "metadata": {
    "collapsed": false
   },
   "outputs": [],
   "source": [
    "for c in x_test.dtypes[x_test.dtypes == object].index.values:\n",
    "    x_test[c] = (x_test[c] == True)"
   ]
  },
  {
   "cell_type": "code",
   "execution_count": 70,
   "metadata": {
    "collapsed": false
   },
   "outputs": [],
   "source": [
    "clf.reset_parameter({\"num_threads\":2})\n",
    "p_test = clf.predict(x_test)"
   ]
  },
  {
   "cell_type": "code",
   "execution_count": 255,
   "metadata": {
    "collapsed": false,
    "scrolled": true
   },
   "outputs": [
    {
     "data": {
      "image/png": "[encoded data removed]",
      "text/plain": [
       "<matplotlib.figure.Figure at 0x12a379da0>"
      ]
     },
     "metadata": {},
     "output_type": "display_data"
    }
   ],
   "source": [
    "plt.close()\n",
    "plt.plot(range(len(p_test)), p_test, '.', color='m', alpha=0.3)\n",
    "plt.show()"
   ]
  },
  {
   "cell_type": "code",
   "execution_count": 71,
   "metadata": {
    "collapsed": false
   },
   "outputs": [
    {
     "data": {
      "image/png": "[encoded data removed]",
      "text/plain": [
       "<matplotlib.figure.Figure at 0x1944e1710>"
      ]
     },
     "metadata": {},
     "output_type": "display_data"
    }
   ],
   "source": [
    "plt.close()\n",
    "plt.plot(range(len(p_test)), p_test, '.', color='m', alpha=0.3)\n",
    "plt.show()"
   ]
  },
  {
   "cell_type": "code",
   "execution_count": 75,
   "metadata": {
    "collapsed": false
   },
   "outputs": [
    {
     "data": {
      "image/png": "[encoded data removed]",
      "text/plain": [
       "<matplotlib.figure.Figure at 0x167333cc0>"
      ]
     },
     "metadata": {},
     "output_type": "display_data"
    }
   ],
   "source": [
    "benchmark_plot()"
   ]
  },
  {
   "cell_type": "code",
   "execution_count": 76,
   "metadata": {
    "collapsed": false
   },
   "outputs": [
    {
     "data": {
      "text/plain": [
       "0.011931664253981783"
      ]
     },
     "execution_count": 76,
     "metadata": {},
     "output_type": "execute_result"
    }
   ],
   "source": [
    "p_test.mean()"
   ]
  },
  {
   "cell_type": "code",
   "execution_count": 77,
   "metadata": {
    "collapsed": true
   },
   "outputs": [],
   "source": [
    "# p_test = 0.97*p_test + 0.03*0.01\n",
    "\n",
    "sub = pd.read_csv('sample_submission.csv')\n",
    "for c in sub.columns[sub.columns != 'ParcelId']:\n",
    "    sub[c] = p_test\n",
    "\n",
    "sub.to_csv('result_without_outliers.csv', index=False, float_format='%.8f')"
   ]
  },
  {
   "cell_type": "code",
   "execution_count": null,
   "metadata": {
    "collapsed": true
   },
   "outputs": [],
   "source": []
  },
  {
   "cell_type": "code",
   "execution_count": null,
   "metadata": {
    "collapsed": true
   },
   "outputs": [],
   "source": []
  },
  {
   "cell_type": "markdown",
   "metadata": {},
   "source": [
    "## Neural Network\n"
   ]
  },
  {
   "cell_type": "code",
   "execution_count": 5,
   "metadata": {
    "collapsed": false
   },
   "outputs": [
    {
     "name": "stderr",
     "output_type": "stream",
     "text": [
      "/Users/Leslie/anaconda3/lib/python3.5/site-packages/sklearn/cross_validation.py:44: DeprecationWarning: This module was deprecated in version 0.18 in favor of the model_selection module into which all the refactored classes and functions are moved. Also note that the interface of the new CV iterators are different from that of this module. This module will be removed in 0.20.\n",
      "  \"This module will be removed in 0.20.\", DeprecationWarning)\n",
      "/Users/Leslie/anaconda3/lib/python3.5/site-packages/sklearn/grid_search.py:43: DeprecationWarning: This module was deprecated in version 0.18 in favor of the model_selection module into which all the refactored classes and functions are moved. This module will be removed in 0.20.\n",
      "  DeprecationWarning)\n",
      "Using TensorFlow backend.\n"
     ]
    }
   ],
   "source": [
    "from sklearn.grid_search import GridSearchCV\n",
    "from keras.models import Sequential\n",
    "from keras.layers import Dense\n",
    "from keras import losses\n",
    "from keras.wrappers.scikit_learn import KerasRegressor"
   ]
  },
  {
   "cell_type": "code",
   "execution_count": 50,
   "metadata": {
    "collapsed": true
   },
   "outputs": [],
   "source": [
    "def create_model(optimizer='adam'):\n",
    "    # create model\n",
    "    model = Sequential()\n",
    "    model.add(Dense(100, input_dim=62, activation='relu'))\n",
    "    model.add(Dense(25, activation='relu'))\n",
    "    model.add(Dense(15, activation='relu'))\n",
    "    model.add(Dense(1, activation='relu'))\n",
    "    # Compile model\n",
    "    model.compile(loss='mean_squared_error', \n",
    "                  optimizer='rmsprop', \n",
    "                  metrics=['mae'])\n",
    "    return model"
   ]
  },
  {
   "cell_type": "code",
   "execution_count": 52,
   "metadata": {
    "collapsed": false,
    "scrolled": true
   },
   "outputs": [
    {
     "name": "stderr",
     "output_type": "stream",
     "text": [
      "/Users/Leslie/anaconda3/lib/python3.5/site-packages/sklearn/utils/validation.py:429: DataConversionWarning: Data with input dtype object was converted to float64 by StandardScaler.\n",
      "  warnings.warn(msg, _DataConversionWarning)\n",
      "/Users/Leslie/anaconda3/lib/python3.5/site-packages/keras/models.py:851: UserWarning: The `nb_epoch` argument in `fit` has been renamed `epochs`.\n",
      "  warnings.warn('The `nb_epoch` argument in `fit` '\n"
     ]
    },
    {
     "name": "stdout",
     "output_type": "stream",
     "text": [
      "Epoch 1/200\n",
      "20000/20000 [==============================] - 0s - loss: 0.0341 - mean_absolute_error: 0.0748     \n",
      "Epoch 2/200\n",
      "20000/20000 [==============================] - 0s - loss: 0.0341 - mean_absolute_error: 0.0748     \n",
      "Epoch 3/200\n",
      "20000/20000 [==============================] - 0s - loss: 0.0341 - mean_absolute_error: 0.0748     \n",
      "Epoch 4/200\n",
      "20000/20000 [==============================] - 0s - loss: 0.0341 - mean_absolute_error: 0.0748     \n",
      "Epoch 5/200\n",
      "20000/20000 [==============================] - 0s - loss: 0.0341 - mean_absolute_error: 0.0748     \n",
      "Epoch 6/200\n",
      "20000/20000 [==============================] - 0s - loss: 0.0341 - mean_absolute_error: 0.0748     \n",
      "Epoch 7/200\n",
      "20000/20000 [==============================] - 0s - loss: 0.0341 - mean_absolute_error: 0.0748     \n",
      "Epoch 8/200\n",
      "20000/20000 [==============================] - 0s - loss: 0.0341 - mean_absolute_error: 0.0748     \n",
      "Epoch 9/200\n",
      "20000/20000 [==============================] - 0s - loss: 0.0341 - mean_absolute_error: 0.0748     \n",
      "Epoch 10/200\n",
      "20000/20000 [==============================] - 0s - loss: 0.0341 - mean_absolute_error: 0.0748     \n",
      "Epoch 11/200\n",
      "20000/20000 [==============================] - 0s - loss: 0.0341 - mean_absolute_error: 0.0748     \n",
      "Epoch 12/200\n",
      "20000/20000 [==============================] - 0s - loss: 0.0341 - mean_absolute_error: 0.0748     \n",
      "Epoch 13/200\n",
      "20000/20000 [==============================] - 0s - loss: 0.0341 - mean_absolute_error: 0.0748     \n",
      "Epoch 14/200\n",
      "20000/20000 [==============================] - 0s - loss: 0.0341 - mean_absolute_error: 0.0748     \n",
      "Epoch 15/200\n",
      "20000/20000 [==============================] - 0s - loss: 0.0341 - mean_absolute_error: 0.0748     \n",
      "Epoch 16/200\n",
      "20000/20000 [==============================] - 0s - loss: 0.0341 - mean_absolute_error: 0.0748     \n",
      "Epoch 17/200\n",
      "20000/20000 [==============================] - 0s - loss: 0.0341 - mean_absolute_error: 0.0748     \n",
      "Epoch 18/200\n",
      "20000/20000 [==============================] - 0s - loss: 0.0341 - mean_absolute_error: 0.0748     \n",
      "Epoch 19/200\n",
      "20000/20000 [==============================] - 0s - loss: 0.0341 - mean_absolute_error: 0.0748     \n",
      "Epoch 20/200\n",
      "20000/20000 [==============================] - 0s - loss: 0.0341 - mean_absolute_error: 0.0748     \n",
      "Epoch 21/200\n",
      "20000/20000 [==============================] - 0s - loss: 0.0341 - mean_absolute_error: 0.0748     \n",
      "Epoch 22/200\n",
      "20000/20000 [==============================] - 0s - loss: 0.0341 - mean_absolute_error: 0.0748     \n",
      "Epoch 23/200\n",
      "20000/20000 [==============================] - 0s - loss: 0.0341 - mean_absolute_error: 0.0748     \n",
      "Epoch 24/200\n",
      "20000/20000 [==============================] - 0s - loss: 0.0341 - mean_absolute_error: 0.0748     \n",
      "Epoch 25/200\n",
      "20000/20000 [==============================] - 0s - loss: 0.0341 - mean_absolute_error: 0.0748     \n",
      "Epoch 26/200\n",
      "20000/20000 [==============================] - 0s - loss: 0.0341 - mean_absolute_error: 0.0748     \n",
      "Epoch 27/200\n",
      "20000/20000 [==============================] - 0s - loss: 0.0341 - mean_absolute_error: 0.0748     \n",
      "Epoch 28/200\n",
      "20000/20000 [==============================] - 0s - loss: 0.0341 - mean_absolute_error: 0.0748     \n",
      "Epoch 29/200\n",
      "20000/20000 [==============================] - 0s - loss: 0.0341 - mean_absolute_error: 0.0748     \n",
      "Epoch 30/200\n",
      "20000/20000 [==============================] - 0s - loss: 0.0341 - mean_absolute_error: 0.0748     \n",
      "Epoch 31/200\n",
      "20000/20000 [==============================] - 0s - loss: 0.0341 - mean_absolute_error: 0.0748     \n",
      "Epoch 32/200\n",
      "20000/20000 [==============================] - 0s - loss: 0.0341 - mean_absolute_error: 0.0748     \n",
      "Epoch 33/200\n",
      "20000/20000 [==============================] - 0s - loss: 0.0341 - mean_absolute_error: 0.0748     \n",
      "Epoch 34/200\n",
      "20000/20000 [==============================] - 0s - loss: 0.0341 - mean_absolute_error: 0.0748     \n",
      "Epoch 35/200\n",
      "20000/20000 [==============================] - 0s - loss: 0.0341 - mean_absolute_error: 0.0748     \n",
      "Epoch 36/200\n",
      "20000/20000 [==============================] - 0s - loss: 0.0341 - mean_absolute_error: 0.0748     \n",
      "Epoch 37/200\n",
      "20000/20000 [==============================] - 0s - loss: 0.0341 - mean_absolute_error: 0.0748     \n",
      "Epoch 38/200\n",
      "20000/20000 [==============================] - 0s - loss: 0.0341 - mean_absolute_error: 0.0748     \n",
      "Epoch 39/200\n",
      "20000/20000 [==============================] - 0s - loss: 0.0341 - mean_absolute_error: 0.0748     \n",
      "Epoch 40/200\n",
      "20000/20000 [==============================] - 0s - loss: 0.0341 - mean_absolute_error: 0.0748     \n",
      "Epoch 41/200\n",
      "20000/20000 [==============================] - 0s - loss: 0.0341 - mean_absolute_error: 0.0748     \n",
      "Epoch 42/200\n",
      "20000/20000 [==============================] - 0s - loss: 0.0341 - mean_absolute_error: 0.0748     \n",
      "Epoch 43/200\n",
      "20000/20000 [==============================] - 0s - loss: 0.0341 - mean_absolute_error: 0.0748     \n",
      "Epoch 44/200\n",
      "20000/20000 [==============================] - 0s - loss: 0.0341 - mean_absolute_error: 0.0748     \n",
      "Epoch 45/200\n",
      "20000/20000 [==============================] - 0s - loss: 0.0341 - mean_absolute_error: 0.0748     \n",
      "Epoch 46/200\n",
      "20000/20000 [==============================] - 0s - loss: 0.0341 - mean_absolute_error: 0.0748     \n",
      "Epoch 47/200\n",
      "20000/20000 [==============================] - 0s - loss: 0.0341 - mean_absolute_error: 0.0748     \n",
      "Epoch 48/200\n",
      "20000/20000 [==============================] - 0s - loss: 0.0341 - mean_absolute_error: 0.0748     \n",
      "Epoch 49/200\n",
      "20000/20000 [==============================] - 0s - loss: 0.0341 - mean_absolute_error: 0.0748     \n",
      "Epoch 50/200\n",
      "20000/20000 [==============================] - 0s - loss: 0.0341 - mean_absolute_error: 0.0748     \n",
      "Epoch 51/200\n",
      "20000/20000 [==============================] - 0s - loss: 0.0341 - mean_absolute_error: 0.0748     \n",
      "Epoch 52/200\n",
      "20000/20000 [==============================] - 0s - loss: 0.0341 - mean_absolute_error: 0.0748     \n",
      "Epoch 53/200\n",
      "20000/20000 [==============================] - 0s - loss: 0.0341 - mean_absolute_error: 0.0748     \n",
      "Epoch 54/200\n",
      "20000/20000 [==============================] - 0s - loss: 0.0341 - mean_absolute_error: 0.0748     \n",
      "Epoch 55/200\n",
      "20000/20000 [==============================] - 0s - loss: 0.0341 - mean_absolute_error: 0.0748     \n",
      "Epoch 56/200\n",
      "20000/20000 [==============================] - 0s - loss: 0.0341 - mean_absolute_error: 0.0748     \n",
      "Epoch 57/200\n",
      "20000/20000 [==============================] - 0s - loss: 0.0341 - mean_absolute_error: 0.0748     \n",
      "Epoch 58/200\n",
      "20000/20000 [==============================] - 0s - loss: 0.0341 - mean_absolute_error: 0.0748     \n",
      "Epoch 59/200\n",
      "20000/20000 [==============================] - 0s - loss: 0.0341 - mean_absolute_error: 0.0748     \n",
      "Epoch 60/200\n",
      "20000/20000 [==============================] - 0s - loss: 0.0341 - mean_absolute_error: 0.0748     \n",
      "Epoch 61/200\n",
      "20000/20000 [==============================] - 0s - loss: 0.0341 - mean_absolute_error: 0.0748     \n",
      "Epoch 62/200\n",
      "20000/20000 [==============================] - 0s - loss: 0.0341 - mean_absolute_error: 0.0748     \n",
      "Epoch 63/200\n",
      "20000/20000 [==============================] - 0s - loss: 0.0341 - mean_absolute_error: 0.0748     \n",
      "Epoch 64/200\n",
      "20000/20000 [==============================] - 0s - loss: 0.0341 - mean_absolute_error: 0.0748     \n",
      "Epoch 65/200\n",
      "20000/20000 [==============================] - 0s - loss: 0.0341 - mean_absolute_error: 0.0748     \n",
      "Epoch 66/200\n",
      "20000/20000 [==============================] - 0s - loss: 0.0341 - mean_absolute_error: 0.0748     \n",
      "Epoch 67/200\n",
      "20000/20000 [==============================] - 0s - loss: 0.0341 - mean_absolute_error: 0.0748     \n",
      "Epoch 68/200\n",
      "20000/20000 [==============================] - 0s - loss: 0.0341 - mean_absolute_error: 0.0748     \n",
      "Epoch 69/200\n",
      "20000/20000 [==============================] - 0s - loss: 0.0341 - mean_absolute_error: 0.0748     \n",
      "Epoch 70/200\n",
      "20000/20000 [==============================] - 0s - loss: 0.0341 - mean_absolute_error: 0.0748     \n",
      "Epoch 71/200\n",
      "20000/20000 [==============================] - 0s - loss: 0.0341 - mean_absolute_error: 0.0748     \n",
      "Epoch 72/200\n",
      "20000/20000 [==============================] - 0s - loss: 0.0341 - mean_absolute_error: 0.0748     \n",
      "Epoch 73/200\n",
      "20000/20000 [==============================] - 0s - loss: 0.0341 - mean_absolute_error: 0.0748     \n",
      "Epoch 74/200\n",
      "20000/20000 [==============================] - 0s - loss: 0.0341 - mean_absolute_error: 0.0748     \n",
      "Epoch 75/200\n",
      "20000/20000 [==============================] - 0s - loss: 0.0341 - mean_absolute_error: 0.0748     \n",
      "Epoch 76/200\n",
      "20000/20000 [==============================] - 0s - loss: 0.0341 - mean_absolute_error: 0.0748     \n",
      "Epoch 77/200\n",
      "20000/20000 [==============================] - 0s - loss: 0.0341 - mean_absolute_error: 0.0748     \n",
      "Epoch 78/200\n",
      "20000/20000 [==============================] - 0s - loss: 0.0341 - mean_absolute_error: 0.0748     \n",
      "Epoch 79/200\n",
      "20000/20000 [==============================] - 0s - loss: 0.0341 - mean_absolute_error: 0.0748     \n",
      "Epoch 80/200\n",
      "20000/20000 [==============================] - 0s - loss: 0.0341 - mean_absolute_error: 0.0748     \n",
      "Epoch 81/200\n",
      "20000/20000 [==============================] - 0s - loss: 0.0341 - mean_absolute_error: 0.0748     \n",
      "Epoch 82/200\n",
      "20000/20000 [==============================] - 0s - loss: 0.0341 - mean_absolute_error: 0.0748     \n",
      "Epoch 83/200\n",
      "20000/20000 [==============================] - 0s - loss: 0.0341 - mean_absolute_error: 0.0748     \n",
      "Epoch 84/200\n",
      "20000/20000 [==============================] - 0s - loss: 0.0341 - mean_absolute_error: 0.0748     \n",
      "Epoch 85/200\n",
      "20000/20000 [==============================] - 0s - loss: 0.0341 - mean_absolute_error: 0.0748     \n",
      "Epoch 86/200\n",
      "20000/20000 [==============================] - 0s - loss: 0.0341 - mean_absolute_error: 0.0748     \n",
      "Epoch 87/200\n",
      "20000/20000 [==============================] - 0s - loss: 0.0341 - mean_absolute_error: 0.0748     \n",
      "Epoch 88/200\n",
      "20000/20000 [==============================] - 0s - loss: 0.0341 - mean_absolute_error: 0.0748     \n",
      "Epoch 89/200\n",
      "20000/20000 [==============================] - 0s - loss: 0.0341 - mean_absolute_error: 0.0748     \n",
      "Epoch 90/200\n",
      "20000/20000 [==============================] - 0s - loss: 0.0341 - mean_absolute_error: 0.0748     \n",
      "Epoch 91/200\n",
      "20000/20000 [==============================] - 0s - loss: 0.0341 - mean_absolute_error: 0.0748     \n",
      "Epoch 92/200\n",
      "20000/20000 [==============================] - 0s - loss: 0.0341 - mean_absolute_error: 0.0748     \n",
      "Epoch 93/200\n",
      "20000/20000 [==============================] - 0s - loss: 0.0341 - mean_absolute_error: 0.0748     \n",
      "Epoch 94/200\n",
      "20000/20000 [==============================] - 0s - loss: 0.0341 - mean_absolute_error: 0.0748     \n",
      "Epoch 95/200\n",
      "20000/20000 [==============================] - 0s - loss: 0.0341 - mean_absolute_error: 0.0748     \n",
      "Epoch 96/200\n",
      "20000/20000 [==============================] - 0s - loss: 0.0341 - mean_absolute_error: 0.0748     \n",
      "Epoch 97/200\n",
      "20000/20000 [==============================] - 0s - loss: 0.0341 - mean_absolute_error: 0.0748     \n",
      "Epoch 98/200\n",
      "20000/20000 [==============================] - 0s - loss: 0.0341 - mean_absolute_error: 0.0748     \n",
      "Epoch 99/200\n",
      "20000/20000 [==============================] - 0s - loss: 0.0341 - mean_absolute_error: 0.0748     \n",
      "Epoch 100/200\n",
      "20000/20000 [==============================] - 0s - loss: 0.0341 - mean_absolute_error: 0.0748     \n",
      "Epoch 101/200\n",
      "20000/20000 [==============================] - 0s - loss: 0.0341 - mean_absolute_error: 0.0748     \n",
      "Epoch 102/200\n",
      "20000/20000 [==============================] - 0s - loss: 0.0341 - mean_absolute_error: 0.0748     \n",
      "Epoch 103/200\n",
      "20000/20000 [==============================] - 0s - loss: 0.0341 - mean_absolute_error: 0.0748     \n",
      "Epoch 104/200\n",
      "20000/20000 [==============================] - 0s - loss: 0.0341 - mean_absolute_error: 0.0748     \n",
      "Epoch 105/200\n",
      "20000/20000 [==============================] - 0s - loss: 0.0341 - mean_absolute_error: 0.0748     \n",
      "Epoch 106/200\n",
      "20000/20000 [==============================] - 0s - loss: 0.0341 - mean_absolute_error: 0.0748     \n",
      "Epoch 107/200\n",
      "20000/20000 [==============================] - 0s - loss: 0.0341 - mean_absolute_error: 0.0748     \n",
      "Epoch 108/200\n",
      "20000/20000 [==============================] - 0s - loss: 0.0341 - mean_absolute_error: 0.0748     \n",
      "Epoch 109/200\n",
      "20000/20000 [==============================] - 0s - loss: 0.0341 - mean_absolute_error: 0.0748     \n",
      "Epoch 110/200\n",
      "20000/20000 [==============================] - 0s - loss: 0.0341 - mean_absolute_error: 0.0748     \n",
      "Epoch 111/200\n",
      "20000/20000 [==============================] - 0s - loss: 0.0341 - mean_absolute_error: 0.0748     \n",
      "Epoch 112/200\n",
      "20000/20000 [==============================] - 0s - loss: 0.0341 - mean_absolute_error: 0.0748     \n",
      "Epoch 113/200\n",
      "20000/20000 [==============================] - 0s - loss: 0.0341 - mean_absolute_error: 0.0748     \n",
      "Epoch 114/200\n",
      "20000/20000 [==============================] - 0s - loss: 0.0341 - mean_absolute_error: 0.0748     \n",
      "Epoch 115/200\n",
      "20000/20000 [==============================] - 0s - loss: 0.0341 - mean_absolute_error: 0.0748     \n",
      "Epoch 116/200\n",
      "20000/20000 [==============================] - 0s - loss: 0.0341 - mean_absolute_error: 0.0748     \n",
      "Epoch 117/200\n",
      "20000/20000 [==============================] - 0s - loss: 0.0341 - mean_absolute_error: 0.0748     \n",
      "Epoch 118/200\n",
      "20000/20000 [==============================] - 0s - loss: 0.0341 - mean_absolute_error: 0.0748     \n",
      "Epoch 119/200\n",
      "20000/20000 [==============================] - 0s - loss: 0.0341 - mean_absolute_error: 0.0748     \n",
      "Epoch 120/200\n",
      "20000/20000 [==============================] - 0s - loss: 0.0341 - mean_absolute_error: 0.0748     \n",
      "Epoch 121/200\n",
      "20000/20000 [==============================] - 0s - loss: 0.0341 - mean_absolute_error: 0.0748     \n",
      "Epoch 122/200\n",
      "20000/20000 [==============================] - 0s - loss: 0.0341 - mean_absolute_error: 0.0748     \n",
      "Epoch 123/200\n",
      "20000/20000 [==============================] - 0s - loss: 0.0341 - mean_absolute_error: 0.0748     \n",
      "Epoch 124/200\n",
      "20000/20000 [==============================] - 0s - loss: 0.0341 - mean_absolute_error: 0.0748     \n",
      "Epoch 125/200\n",
      "20000/20000 [==============================] - 0s - loss: 0.0341 - mean_absolute_error: 0.0748     \n",
      "Epoch 126/200\n",
      "20000/20000 [==============================] - 0s - loss: 0.0341 - mean_absolute_error: 0.0748     \n",
      "Epoch 127/200\n",
      "20000/20000 [==============================] - 0s - loss: 0.0341 - mean_absolute_error: 0.0748     \n",
      "Epoch 128/200\n",
      "20000/20000 [==============================] - 0s - loss: 0.0341 - mean_absolute_error: 0.0748     \n",
      "Epoch 129/200\n",
      "20000/20000 [==============================] - 0s - loss: 0.0341 - mean_absolute_error: 0.0748     \n",
      "Epoch 130/200\n",
      "20000/20000 [==============================] - 0s - loss: 0.0341 - mean_absolute_error: 0.0748     \n",
      "Epoch 131/200\n",
      "20000/20000 [==============================] - 0s - loss: 0.0341 - mean_absolute_error: 0.0748     \n",
      "Epoch 132/200\n",
      "20000/20000 [==============================] - 0s - loss: 0.0341 - mean_absolute_error: 0.0748     \n",
      "Epoch 133/200\n",
      "20000/20000 [==============================] - 0s - loss: 0.0341 - mean_absolute_error: 0.0748     \n",
      "Epoch 134/200\n",
      "20000/20000 [==============================] - 0s - loss: 0.0341 - mean_absolute_error: 0.0748     \n",
      "Epoch 135/200\n",
      "20000/20000 [==============================] - 0s - loss: 0.0341 - mean_absolute_error: 0.0748     \n",
      "Epoch 136/200\n",
      "20000/20000 [==============================] - 0s - loss: 0.0341 - mean_absolute_error: 0.0748     \n",
      "Epoch 137/200\n",
      "20000/20000 [==============================] - 0s - loss: 0.0341 - mean_absolute_error: 0.0748     \n",
      "Epoch 138/200\n",
      "20000/20000 [==============================] - 0s - loss: 0.0341 - mean_absolute_error: 0.0748     \n",
      "Epoch 139/200\n",
      "20000/20000 [==============================] - 0s - loss: 0.0341 - mean_absolute_error: 0.0748     \n",
      "Epoch 140/200\n",
      "20000/20000 [==============================] - 0s - loss: 0.0341 - mean_absolute_error: 0.0748     \n",
      "Epoch 141/200\n",
      "20000/20000 [==============================] - 0s - loss: 0.0341 - mean_absolute_error: 0.0748     \n",
      "Epoch 142/200\n",
      "20000/20000 [==============================] - 0s - loss: 0.0341 - mean_absolute_error: 0.0748     \n",
      "Epoch 143/200\n",
      "20000/20000 [==============================] - 0s - loss: 0.0341 - mean_absolute_error: 0.0748     \n",
      "Epoch 144/200\n",
      "20000/20000 [==============================] - 0s - loss: 0.0341 - mean_absolute_error: 0.0748     \n",
      "Epoch 145/200\n",
      "20000/20000 [==============================] - 0s - loss: 0.0341 - mean_absolute_error: 0.0748     \n",
      "Epoch 146/200\n",
      "20000/20000 [==============================] - 0s - loss: 0.0341 - mean_absolute_error: 0.0748     \n",
      "Epoch 147/200\n",
      "20000/20000 [==============================] - 0s - loss: 0.0341 - mean_absolute_error: 0.0748     \n",
      "Epoch 148/200\n",
      "20000/20000 [==============================] - 0s - loss: 0.0341 - mean_absolute_error: 0.0748     \n",
      "Epoch 149/200\n",
      "20000/20000 [==============================] - 0s - loss: 0.0341 - mean_absolute_error: 0.0748     \n",
      "Epoch 150/200\n",
      "20000/20000 [==============================] - 0s - loss: 0.0341 - mean_absolute_error: 0.0748     \n",
      "Epoch 151/200\n",
      "20000/20000 [==============================] - 0s - loss: 0.0341 - mean_absolute_error: 0.0748     \n",
      "Epoch 152/200\n",
      "20000/20000 [==============================] - 0s - loss: 0.0341 - mean_absolute_error: 0.0748     \n",
      "Epoch 153/200\n",
      "20000/20000 [==============================] - 0s - loss: 0.0341 - mean_absolute_error: 0.0748     \n",
      "Epoch 154/200\n",
      "20000/20000 [==============================] - 0s - loss: 0.0341 - mean_absolute_error: 0.0748     \n",
      "Epoch 155/200\n",
      "20000/20000 [==============================] - 0s - loss: 0.0341 - mean_absolute_error: 0.0748     \n",
      "Epoch 156/200\n",
      "20000/20000 [==============================] - 0s - loss: 0.0341 - mean_absolute_error: 0.0748     \n",
      "Epoch 157/200\n",
      "20000/20000 [==============================] - 0s - loss: 0.0341 - mean_absolute_error: 0.0748     \n",
      "Epoch 158/200\n",
      "20000/20000 [==============================] - 0s - loss: 0.0341 - mean_absolute_error: 0.0748     \n",
      "Epoch 159/200\n",
      "20000/20000 [==============================] - 0s - loss: 0.0341 - mean_absolute_error: 0.0748     \n",
      "Epoch 160/200\n",
      "20000/20000 [==============================] - 0s - loss: 0.0341 - mean_absolute_error: 0.0748     \n",
      "Epoch 161/200\n",
      "20000/20000 [==============================] - 0s - loss: 0.0341 - mean_absolute_error: 0.0748     \n",
      "Epoch 162/200\n",
      "20000/20000 [==============================] - 0s - loss: 0.0341 - mean_absolute_error: 0.0748     \n",
      "Epoch 163/200\n",
      "20000/20000 [==============================] - 0s - loss: 0.0341 - mean_absolute_error: 0.0748     \n",
      "Epoch 164/200\n",
      "20000/20000 [==============================] - 0s - loss: 0.0341 - mean_absolute_error: 0.0748     \n",
      "Epoch 165/200\n",
      "20000/20000 [==============================] - 0s - loss: 0.0341 - mean_absolute_error: 0.0748     \n",
      "Epoch 166/200\n",
      "20000/20000 [==============================] - 0s - loss: 0.0341 - mean_absolute_error: 0.0748     \n",
      "Epoch 167/200\n",
      "20000/20000 [==============================] - 0s - loss: 0.0341 - mean_absolute_error: 0.0748     \n",
      "Epoch 168/200\n",
      "20000/20000 [==============================] - 0s - loss: 0.0341 - mean_absolute_error: 0.0748     \n",
      "Epoch 169/200\n",
      "20000/20000 [==============================] - 0s - loss: 0.0341 - mean_absolute_error: 0.0748     \n",
      "Epoch 170/200\n",
      "20000/20000 [==============================] - 0s - loss: 0.0341 - mean_absolute_error: 0.0748     \n",
      "Epoch 171/200\n",
      "20000/20000 [==============================] - 0s - loss: 0.0341 - mean_absolute_error: 0.0748     \n",
      "Epoch 172/200\n",
      "20000/20000 [==============================] - 0s - loss: 0.0341 - mean_absolute_error: 0.0748     \n",
      "Epoch 173/200\n",
      "20000/20000 [==============================] - 0s - loss: 0.0341 - mean_absolute_error: 0.0748     \n",
      "Epoch 174/200\n",
      "20000/20000 [==============================] - 0s - loss: 0.0341 - mean_absolute_error: 0.0748     \n",
      "Epoch 175/200\n",
      "20000/20000 [==============================] - 0s - loss: 0.0341 - mean_absolute_error: 0.0748     \n",
      "Epoch 176/200\n",
      "20000/20000 [==============================] - 0s - loss: 0.0341 - mean_absolute_error: 0.0748     \n",
      "Epoch 177/200\n",
      "20000/20000 [==============================] - 0s - loss: 0.0341 - mean_absolute_error: 0.0748     \n",
      "Epoch 178/200\n",
      "20000/20000 [==============================] - 0s - loss: 0.0341 - mean_absolute_error: 0.0748     \n",
      "Epoch 179/200\n",
      "20000/20000 [==============================] - 0s - loss: 0.0341 - mean_absolute_error: 0.0748     \n",
      "Epoch 180/200\n",
      "20000/20000 [==============================] - 0s - loss: 0.0341 - mean_absolute_error: 0.0748     \n",
      "Epoch 181/200\n",
      "20000/20000 [==============================] - 0s - loss: 0.0341 - mean_absolute_error: 0.0748     \n",
      "Epoch 182/200\n",
      "20000/20000 [==============================] - 0s - loss: 0.0341 - mean_absolute_error: 0.0748     \n",
      "Epoch 183/200\n",
      "20000/20000 [==============================] - 0s - loss: 0.0341 - mean_absolute_error: 0.0748     \n",
      "Epoch 184/200\n",
      "20000/20000 [==============================] - 0s - loss: 0.0341 - mean_absolute_error: 0.0748     \n",
      "Epoch 185/200\n",
      "20000/20000 [==============================] - 0s - loss: 0.0341 - mean_absolute_error: 0.0748     \n",
      "Epoch 186/200\n",
      "20000/20000 [==============================] - 0s - loss: 0.0341 - mean_absolute_error: 0.0748     \n",
      "Epoch 187/200\n",
      "20000/20000 [==============================] - 0s - loss: 0.0341 - mean_absolute_error: 0.0748     \n",
      "Epoch 188/200\n",
      "20000/20000 [==============================] - 0s - loss: 0.0341 - mean_absolute_error: 0.0748     \n",
      "Epoch 189/200\n",
      "20000/20000 [==============================] - 0s - loss: 0.0341 - mean_absolute_error: 0.0748     \n",
      "Epoch 190/200\n",
      "20000/20000 [==============================] - 0s - loss: 0.0341 - mean_absolute_error: 0.0748     \n",
      "Epoch 191/200\n",
      "20000/20000 [==============================] - 0s - loss: 0.0341 - mean_absolute_error: 0.0748     \n",
      "Epoch 192/200\n",
      "20000/20000 [==============================] - 0s - loss: 0.0341 - mean_absolute_error: 0.0748     \n",
      "Epoch 193/200\n",
      "20000/20000 [==============================] - 0s - loss: 0.0341 - mean_absolute_error: 0.0748     \n",
      "Epoch 194/200\n",
      "20000/20000 [==============================] - 0s - loss: 0.0341 - mean_absolute_error: 0.0748     \n",
      "Epoch 195/200\n",
      "20000/20000 [==============================] - 0s - loss: 0.0341 - mean_absolute_error: 0.0748     \n",
      "Epoch 196/200\n",
      "20000/20000 [==============================] - 0s - loss: 0.0341 - mean_absolute_error: 0.0748     \n",
      "Epoch 197/200\n",
      "20000/20000 [==============================] - 0s - loss: 0.0341 - mean_absolute_error: 0.0748     \n",
      "Epoch 198/200\n",
      "20000/20000 [==============================] - 0s - loss: 0.0341 - mean_absolute_error: 0.0748     \n",
      "Epoch 199/200\n",
      "20000/20000 [==============================] - 0s - loss: 0.0341 - mean_absolute_error: 0.0748     \n",
      "Epoch 200/200\n",
      "20000/20000 [==============================] - 0s - loss: 0.0341 - mean_absolute_error: 0.0748     \n",
      "0.091049\n"
     ]
    }
   ],
   "source": [
    "from sklearn import preprocessing\n",
    "scaler = preprocessing.StandardScaler()\n",
    "x_standard = scaler.fit_transform(x_train)\n",
    "# nn = KerasRegressor(build_fn=create_model, verbose=0)\n",
    "nn = create_model()\n",
    "nn.fit(x_standard[:20000], y_train[:20000],\n",
    "       nb_epoch=200, batch_size=100)\n",
    "y_pred = nn.predict(x_standard[-100:])\n",
    "print(mean_absolute_error(y_train[-100:],\n",
    "                          y_pred))\n"
   ]
  },
  {
   "cell_type": "code",
   "execution_count": 49,
   "metadata": {
    "collapsed": false
   },
   "outputs": [
    {
     "data": {
      "image/png": "[encoded data removed]",
      "text/plain": [
       "<matplotlib.figure.Figure at 0x13b6819e8>"
      ]
     },
     "metadata": {},
     "output_type": "display_data"
    }
   ],
   "source": [
    "plt.close()\n",
    "plt.plot(range(len(y_pred)), y_pred, '.')\n",
    "plt.show()"
   ]
  },
  {
   "cell_type": "code",
   "execution_count": 6,
   "metadata": {
    "collapsed": false
   },
   "outputs": [],
   "source": [
    "dataset = np.loadtxt(\"pima-indians-diabetes.data.txt\", delimiter=\",\")"
   ]
  },
  {
   "cell_type": "code",
   "execution_count": 85,
   "metadata": {
    "collapsed": false
   },
   "outputs": [
    {
     "data": {
      "text/plain": [
       "(768, 9)"
      ]
     },
     "execution_count": 85,
     "metadata": {},
     "output_type": "execute_result"
    }
   ],
   "source": [
    "dataset.shape"
   ]
  },
  {
   "cell_type": "code",
   "execution_count": 7,
   "metadata": {
    "collapsed": true
   },
   "outputs": [],
   "source": [
    "X = dataset[:,0:8]\n",
    "Y = dataset[:,8]"
   ]
  },
  {
   "cell_type": "code",
   "execution_count": 21,
   "metadata": {
    "collapsed": false
   },
   "outputs": [
    {
     "data": {
      "text/plain": [
       "array([ 0.,  1.,  0.,  0.,  0.,  0.,  1.,  0.])"
      ]
     },
     "execution_count": 21,
     "metadata": {},
     "output_type": "execute_result"
    }
   ],
   "source": [
    "Y[-8:]"
   ]
  },
  {
   "cell_type": "code",
   "execution_count": 8,
   "metadata": {
    "collapsed": false
   },
   "outputs": [],
   "source": [
    "def create_model():\n",
    "    # create model\n",
    "    model = Sequential()\n",
    "    model.add(Dense(12, input_dim=8, activation='relu'))\n",
    "    model.add(Dense(1, activation='sigmoid'))\n",
    "    # Compile model\n",
    "    model.compile(loss='binary_crossentropy', optimizer='adam', metrics=['accuracy'])\n",
    "    return model\n",
    "\n",
    "from keras.wrappers.scikit_learn import KerasClassifier\n",
    "model = KerasClassifier(build_fn=create_model, verbose=0)"
   ]
  },
  {
   "cell_type": "code",
   "execution_count": 9,
   "metadata": {
    "collapsed": true
   },
   "outputs": [],
   "source": [
    "batch_size = [10]\n",
    "epochs = [10]\n",
    "param_grid = dict(batch_size=batch_size, nb_epoch=epochs)\n",
    "grid = GridSearchCV(estimator=model, param_grid=param_grid, n_jobs=-1)\n",
    "grid_result = grid.fit(X, Y)"
   ]
  },
  {
   "cell_type": "code",
   "execution_count": 10,
   "metadata": {
    "collapsed": false
   },
   "outputs": [
    {
     "name": "stdout",
     "output_type": "stream",
     "text": [
      "Best: 0.608073 using {'batch_size': 10, 'nb_epoch': 10}\n"
     ]
    }
   ],
   "source": [
    "print(\"Best: %f using %s\" % (grid_result.best_score_, grid_result.best_params_))\n"
   ]
  },
  {
   "cell_type": "markdown",
   "metadata": {},
   "source": [
    "## Ensemble"
   ]
  },
  {
   "cell_type": "code",
   "execution_count": 212,
   "metadata": {
    "collapsed": true
   },
   "outputs": [],
   "source": [
    "rf = pd.read_csv('result_rf.csv')\n",
    "gbm = pd.read_csv('result_lightgbm.csv')\n",
    "xgb = pd.read_csv('result_xgb.csv')\n",
    "y_rf = rf['201610']\n",
    "y_gbm = gbm['201610']\n",
    "y_xgb = xgb['201610']"
   ]
  },
  {
   "cell_type": "code",
   "execution_count": 214,
   "metadata": {
    "collapsed": true
   },
   "outputs": [],
   "source": [
    "y_ensemble = (y_rf+y_gbm)/2\n",
    "sub = pd.read_csv('sample_submission.csv')\n",
    "for c in sub.columns[sub.columns != 'ParcelId']:\n",
    "    sub[c] = y_ensemble\n",
    "\n",
    "sub.to_csv('result_ensemble.csv', index=False, float_format='%.8f')"
   ]
  },
  {
   "cell_type": "code",
   "execution_count": null,
   "metadata": {
    "collapsed": true
   },
   "outputs": [],
   "source": []
  }
 ],
 "metadata": {
  "anaconda-cloud": {},
  "kernelspec": {
   "display_name": "Python 3(Default)",
   "language": "python",
   "name": "python3"
  },
  "language_info": {
   "codemirror_mode": {
    "name": "ipython",
    "version": 3
   },
   "file_extension": ".py",
   "mimetype": "text/x-python",
   "name": "python",
   "nbconvert_exporter": "python",
   "pygments_lexer": "ipython3",
   "version": "3.5.2"
  }
 },
 "nbformat": 4,
 "nbformat_minor": 1
}
